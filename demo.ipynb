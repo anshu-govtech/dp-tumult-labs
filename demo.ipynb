{
 "cells": [
  {
   "cell_type": "code",
   "execution_count": 58,
   "id": "c979eab0-3f68-4e59-abb3-7677655b7411",
   "metadata": {},
   "outputs": [],
   "source": [
    "import pandas as pd"
   ]
  },
  {
   "cell_type": "code",
   "execution_count": 76,
   "id": "3708f79f-e7d1-4b0b-b84d-e677bcb12752",
   "metadata": {},
   "outputs": [],
   "source": [
    "df = pd.read_csv(\"members.csv\")"
   ]
  },
  {
   "cell_type": "code",
   "execution_count": 77,
   "id": "875077b2-0022-4354-8e45-1861f2eecddb",
   "metadata": {},
   "outputs": [
    {
     "data": {
      "text/html": [
       "<div>\n",
       "<style scoped>\n",
       "    .dataframe tbody tr th:only-of-type {\n",
       "        vertical-align: middle;\n",
       "    }\n",
       "\n",
       "    .dataframe tbody tr th {\n",
       "        vertical-align: top;\n",
       "    }\n",
       "\n",
       "    .dataframe thead th {\n",
       "        text-align: right;\n",
       "    }\n",
       "</style>\n",
       "<table border=\"1\" class=\"dataframe\">\n",
       "  <thead>\n",
       "    <tr style=\"text-align: right;\">\n",
       "      <th></th>\n",
       "      <th>id</th>\n",
       "      <th>name</th>\n",
       "      <th>age</th>\n",
       "      <th>gender</th>\n",
       "      <th>education_level</th>\n",
       "      <th>zip_code</th>\n",
       "      <th>books_borrowed</th>\n",
       "      <th>favorite_genres</th>\n",
       "      <th>date_joined</th>\n",
       "    </tr>\n",
       "  </thead>\n",
       "  <tbody>\n",
       "    <tr>\n",
       "      <th>0</th>\n",
       "      <td>421742</td>\n",
       "      <td>Alan</td>\n",
       "      <td>20</td>\n",
       "      <td>male</td>\n",
       "      <td>high-school-diploma</td>\n",
       "      <td>27509</td>\n",
       "      <td>22</td>\n",
       "      <td>Religion/spirituality;Mystery/thriller/crime</td>\n",
       "      <td>2021-08-26</td>\n",
       "    </tr>\n",
       "    <tr>\n",
       "      <th>1</th>\n",
       "      <td>338337</td>\n",
       "      <td>Tessa</td>\n",
       "      <td>27</td>\n",
       "      <td>female</td>\n",
       "      <td>bachelors-associate</td>\n",
       "      <td>27278</td>\n",
       "      <td>0</td>\n",
       "      <td>Science fiction;Graphic novels;History</td>\n",
       "      <td>2021-11-19</td>\n",
       "    </tr>\n",
       "    <tr>\n",
       "      <th>2</th>\n",
       "      <td>348835</td>\n",
       "      <td>Flaquita</td>\n",
       "      <td>52</td>\n",
       "      <td>female</td>\n",
       "      <td>high-school-diploma</td>\n",
       "      <td>27252</td>\n",
       "      <td>2</td>\n",
       "      <td>Cookbooks/food writing;Business;History</td>\n",
       "      <td>2021-04-23</td>\n",
       "    </tr>\n",
       "    <tr>\n",
       "      <th>3</th>\n",
       "      <td>871610</td>\n",
       "      <td>Eugene</td>\n",
       "      <td>9</td>\n",
       "      <td>male</td>\n",
       "      <td>up-to-high-school</td>\n",
       "      <td>27591</td>\n",
       "      <td>15</td>\n",
       "      <td>Classics/Literature;Biographies/memoirs</td>\n",
       "      <td>2021-09-02</td>\n",
       "    </tr>\n",
       "    <tr>\n",
       "      <th>4</th>\n",
       "      <td>793820</td>\n",
       "      <td>Ernesto</td>\n",
       "      <td>64</td>\n",
       "      <td>unspecified</td>\n",
       "      <td>high-school-diploma</td>\n",
       "      <td>27712</td>\n",
       "      <td>20</td>\n",
       "      <td>Biographies/memoirs</td>\n",
       "      <td>2021-02-23</td>\n",
       "    </tr>\n",
       "    <tr>\n",
       "      <th>...</th>\n",
       "      <td>...</td>\n",
       "      <td>...</td>\n",
       "      <td>...</td>\n",
       "      <td>...</td>\n",
       "      <td>...</td>\n",
       "      <td>...</td>\n",
       "      <td>...</td>\n",
       "      <td>...</td>\n",
       "      <td>...</td>\n",
       "    </tr>\n",
       "    <tr>\n",
       "      <th>54212</th>\n",
       "      <td>512848</td>\n",
       "      <td>Eduardo</td>\n",
       "      <td>58</td>\n",
       "      <td>male</td>\n",
       "      <td>bachelors-associate</td>\n",
       "      <td>27705</td>\n",
       "      <td>18</td>\n",
       "      <td>Biographies/memoirs</td>\n",
       "      <td>2021-02-09</td>\n",
       "    </tr>\n",
       "    <tr>\n",
       "      <th>54213</th>\n",
       "      <td>218197</td>\n",
       "      <td>Narciso</td>\n",
       "      <td>53</td>\n",
       "      <td>male</td>\n",
       "      <td>high-school-diploma</td>\n",
       "      <td>27513</td>\n",
       "      <td>41</td>\n",
       "      <td>Current affairs;Biographies/memoirs;Mystery/th...</td>\n",
       "      <td>2021-05-25</td>\n",
       "    </tr>\n",
       "    <tr>\n",
       "      <th>54214</th>\n",
       "      <td>403582</td>\n",
       "      <td>Craig</td>\n",
       "      <td>27</td>\n",
       "      <td>male</td>\n",
       "      <td>high-school-diploma</td>\n",
       "      <td>27201</td>\n",
       "      <td>2</td>\n",
       "      <td>True crime;Biographies/memoirs;Cookbooks/food ...</td>\n",
       "      <td>2021-12-01</td>\n",
       "    </tr>\n",
       "    <tr>\n",
       "      <th>54215</th>\n",
       "      <td>373414</td>\n",
       "      <td>Abraham</td>\n",
       "      <td>48</td>\n",
       "      <td>male</td>\n",
       "      <td>bachelors-associate</td>\n",
       "      <td>27546</td>\n",
       "      <td>0</td>\n",
       "      <td>Science fiction;Mystery/thriller/crime;Self-help</td>\n",
       "      <td>2021-11-16</td>\n",
       "    </tr>\n",
       "    <tr>\n",
       "      <th>54216</th>\n",
       "      <td>44467</td>\n",
       "      <td>Govind</td>\n",
       "      <td>56</td>\n",
       "      <td>male</td>\n",
       "      <td>doctorate-professional</td>\n",
       "      <td>27573</td>\n",
       "      <td>77</td>\n",
       "      <td>Political;Self-help;Science fiction</td>\n",
       "      <td>2021-12-09</td>\n",
       "    </tr>\n",
       "  </tbody>\n",
       "</table>\n",
       "<p>54217 rows × 9 columns</p>\n",
       "</div>"
      ],
      "text/plain": [
       "           id      name  age       gender         education_level zip_code  \\\n",
       "0      421742      Alan   20         male     high-school-diploma    27509   \n",
       "1      338337     Tessa   27       female     bachelors-associate    27278   \n",
       "2      348835  Flaquita   52       female     high-school-diploma    27252   \n",
       "3      871610    Eugene    9         male       up-to-high-school    27591   \n",
       "4      793820   Ernesto   64  unspecified     high-school-diploma    27712   \n",
       "...       ...       ...  ...          ...                     ...      ...   \n",
       "54212  512848   Eduardo   58         male     bachelors-associate    27705   \n",
       "54213  218197   Narciso   53         male     high-school-diploma    27513   \n",
       "54214  403582     Craig   27         male     high-school-diploma    27201   \n",
       "54215  373414   Abraham   48         male     bachelors-associate    27546   \n",
       "54216   44467    Govind   56         male  doctorate-professional    27573   \n",
       "\n",
       "       books_borrowed                                    favorite_genres  \\\n",
       "0                  22       Religion/spirituality;Mystery/thriller/crime   \n",
       "1                   0             Science fiction;Graphic novels;History   \n",
       "2                   2            Cookbooks/food writing;Business;History   \n",
       "3                  15            Classics/Literature;Biographies/memoirs   \n",
       "4                  20                                Biographies/memoirs   \n",
       "...               ...                                                ...   \n",
       "54212              18                                Biographies/memoirs   \n",
       "54213              41  Current affairs;Biographies/memoirs;Mystery/th...   \n",
       "54214               2  True crime;Biographies/memoirs;Cookbooks/food ...   \n",
       "54215               0   Science fiction;Mystery/thriller/crime;Self-help   \n",
       "54216              77                Political;Self-help;Science fiction   \n",
       "\n",
       "      date_joined  \n",
       "0      2021-08-26  \n",
       "1      2021-11-19  \n",
       "2      2021-04-23  \n",
       "3      2021-09-02  \n",
       "4      2021-02-23  \n",
       "...           ...  \n",
       "54212  2021-02-09  \n",
       "54213  2021-05-25  \n",
       "54214  2021-12-01  \n",
       "54215  2021-11-16  \n",
       "54216  2021-12-09  \n",
       "\n",
       "[54217 rows x 9 columns]"
      ]
     },
     "execution_count": 77,
     "metadata": {},
     "output_type": "execute_result"
    }
   ],
   "source": [
    "df"
   ]
  },
  {
   "cell_type": "code",
   "execution_count": 82,
   "id": "cfc3ec89-4489-4f90-8c16-2c6fa0423417",
   "metadata": {},
   "outputs": [
    {
     "data": {
      "text/html": [
       "<div>\n",
       "<style scoped>\n",
       "    .dataframe tbody tr th:only-of-type {\n",
       "        vertical-align: middle;\n",
       "    }\n",
       "\n",
       "    .dataframe tbody tr th {\n",
       "        vertical-align: top;\n",
       "    }\n",
       "\n",
       "    .dataframe thead th {\n",
       "        text-align: right;\n",
       "    }\n",
       "</style>\n",
       "<table border=\"1\" class=\"dataframe\">\n",
       "  <thead>\n",
       "    <tr style=\"text-align: right;\">\n",
       "      <th></th>\n",
       "      <th>age</th>\n",
       "    </tr>\n",
       "    <tr>\n",
       "      <th>education_level</th>\n",
       "      <th></th>\n",
       "    </tr>\n",
       "  </thead>\n",
       "  <tbody>\n",
       "    <tr>\n",
       "      <th>up-to-high-school</th>\n",
       "      <td>17.911909</td>\n",
       "    </tr>\n",
       "    <tr>\n",
       "      <th>high-school-diploma</th>\n",
       "      <td>43.677985</td>\n",
       "    </tr>\n",
       "    <tr>\n",
       "      <th>bachelors-associate</th>\n",
       "      <td>46.529593</td>\n",
       "    </tr>\n",
       "    <tr>\n",
       "      <th>masters-degree</th>\n",
       "      <td>49.689992</td>\n",
       "    </tr>\n",
       "    <tr>\n",
       "      <th>doctorate-professional</th>\n",
       "      <td>52.669280</td>\n",
       "    </tr>\n",
       "  </tbody>\n",
       "</table>\n",
       "</div>"
      ],
      "text/plain": [
       "                              age\n",
       "education_level                  \n",
       "up-to-high-school       17.911909\n",
       "high-school-diploma     43.677985\n",
       "bachelors-associate     46.529593\n",
       "masters-degree          49.689992\n",
       "doctorate-professional  52.669280"
      ]
     },
     "execution_count": 82,
     "metadata": {},
     "output_type": "execute_result"
    }
   ],
   "source": [
    "df1 = df[['education_level', 'age']].groupby(['education_level']).agg(['mean'])\n",
    "df1.columns = df1.columns.get_level_values(0)\n",
    "\n",
    "df1 = df1.sort_values('age')\n",
    "df1"
   ]
  },
  {
   "cell_type": "code",
   "execution_count": 62,
   "id": "bc4c11ff-de61-4321-a4c0-853c1f999230",
   "metadata": {},
   "outputs": [
    {
     "data": {
      "text/plain": [
       "(54217, 9)"
      ]
     },
     "execution_count": 62,
     "metadata": {},
     "output_type": "execute_result"
    }
   ],
   "source": [
    "df.shape"
   ]
  },
  {
   "cell_type": "code",
   "execution_count": 1,
   "id": "0b0d4132-da7a-4afe-85ba-a36e70ec64c2",
   "metadata": {},
   "outputs": [],
   "source": [
    "import os\n",
    "import requests\n",
    "from pyspark.sql import SparkSession\n",
    "from tmlt.analytics.keyset import KeySet\n",
    "from tmlt.analytics.privacy_budget import PureDPBudget\n",
    "from tmlt.analytics.query_builder import QueryBuilder\n",
    "from tmlt.analytics.session import Session"
   ]
  },
  {
   "cell_type": "code",
   "execution_count": 64,
   "id": "b16f4a0a-ff6d-4acb-978d-180e32a22681",
   "metadata": {},
   "outputs": [],
   "source": [
    "spark = SparkSession.builder.getOrCreate()\n",
    "\n",
    "members_df = spark.read.csv(\"members.csv\", header=True, inferSchema=True)\n",
    "\n",
    "session = Session.from_dataframe(\n",
    "    privacy_budget=PureDPBudget(epsilon=float('inf')),\n",
    "    source_id=\"members\",\n",
    "    dataframe=members_df,\n",
    ")"
   ]
  },
  {
   "cell_type": "code",
   "execution_count": 65,
   "id": "a1f59ec1-ad7f-4d65-b876-acadf1de445a",
   "metadata": {},
   "outputs": [],
   "source": [
    "edu_levels = KeySet.from_dict({\n",
    "    \"education_level\": [\n",
    "        \"up-to-high-school\",\n",
    "        \"high-school-diploma\",\n",
    "        \"bachelors-associate\",\n",
    "        \"masters-degree\",\n",
    "        \"doctorate-professional\",\n",
    "    ] \n",
    "})"
   ]
  },
  {
   "cell_type": "code",
   "execution_count": 66,
   "id": "e3e1fb4e-c62c-4acc-9403-5d4d3b5296ef",
   "metadata": {},
   "outputs": [],
   "source": [
    "edu_average_age_query = (\n",
    "    QueryBuilder(\"members\")\n",
    "    .groupby(edu_levels)\n",
    "    .average(\"age\", low=0, high=120)\n",
    ")\n"
   ]
  },
  {
   "cell_type": "code",
   "execution_count": 67,
   "id": "3d4a6f4a-d9fe-48fc-a9e6-753730fb3fc5",
   "metadata": {},
   "outputs": [
    {
     "name": "stderr",
     "output_type": "stream",
     "text": [
      "/home/anshu/Work/tumult_labs/env/lib/python3.7/site-packages/pyspark/sql/pandas/functions.py:386: UserWarning: In Python 3.6+ and Spark 3.0+, it is preferred to specify type hints for pandas UDF instead of specifying pandas UDF type which will be deprecated in the future releases. See SPARK-28264 for more details.\n",
      "  \"in the future releases. See SPARK-28264 for more details.\", UserWarning)\n",
      "                                                                                \r"
     ]
    },
    {
     "name": "stdout",
     "output_type": "stream",
     "text": [
      "+----------------------+------------------+\n",
      "|education_level       |age_average       |\n",
      "+----------------------+------------------+\n",
      "|up-to-high-school     |18.019705102942176|\n",
      "|high-school-diploma   |43.67578896651409 |\n",
      "|bachelors-associate   |46.34802988135345 |\n",
      "|masters-degree        |49.01694452036075 |\n",
      "|doctorate-professional|52.853067047075605|\n",
      "+----------------------+------------------+\n",
      "\n"
     ]
    }
   ],
   "source": [
    "edu_average_ages = session.evaluate(\n",
    "    edu_average_age_query,\n",
    "    privacy_budget=PureDPBudget(0.1),\n",
    ")\n",
    "edu_average_ages.sort(\"age_average\").show(truncate=False)"
   ]
  },
  {
   "cell_type": "code",
   "execution_count": 48,
   "id": "a1223aa8-eafe-4a52-b9e4-e5f130431877",
   "metadata": {},
   "outputs": [
    {
     "data": {
      "text/html": [
       "<div>\n",
       "<style scoped>\n",
       "    .dataframe tbody tr th:only-of-type {\n",
       "        vertical-align: middle;\n",
       "    }\n",
       "\n",
       "    .dataframe tbody tr th {\n",
       "        vertical-align: top;\n",
       "    }\n",
       "\n",
       "    .dataframe thead th {\n",
       "        text-align: right;\n",
       "    }\n",
       "</style>\n",
       "<table border=\"1\" class=\"dataframe\">\n",
       "  <thead>\n",
       "    <tr style=\"text-align: right;\">\n",
       "      <th></th>\n",
       "      <th>age</th>\n",
       "    </tr>\n",
       "    <tr>\n",
       "      <th>education_level</th>\n",
       "      <th></th>\n",
       "    </tr>\n",
       "  </thead>\n",
       "  <tbody>\n",
       "    <tr>\n",
       "      <th>up-to-high-school</th>\n",
       "      <td>17.911909</td>\n",
       "    </tr>\n",
       "    <tr>\n",
       "      <th>high-school-diploma</th>\n",
       "      <td>43.677985</td>\n",
       "    </tr>\n",
       "    <tr>\n",
       "      <th>bachelors-associate</th>\n",
       "      <td>46.529593</td>\n",
       "    </tr>\n",
       "    <tr>\n",
       "      <th>masters-degree</th>\n",
       "      <td>49.689992</td>\n",
       "    </tr>\n",
       "    <tr>\n",
       "      <th>doctorate-professional</th>\n",
       "      <td>52.669280</td>\n",
       "    </tr>\n",
       "  </tbody>\n",
       "</table>\n",
       "</div>"
      ],
      "text/plain": [
       "                              age\n",
       "education_level                  \n",
       "up-to-high-school       17.911909\n",
       "high-school-diploma     43.677985\n",
       "bachelors-associate     46.529593\n",
       "masters-degree          49.689992\n",
       "doctorate-professional  52.669280"
      ]
     },
     "execution_count": 48,
     "metadata": {},
     "output_type": "execute_result"
    }
   ],
   "source": [
    "df1"
   ]
  },
  {
   "cell_type": "code",
   "execution_count": 68,
   "id": "2a1d9baa-6132-4f54-a497-4fcad12044c7",
   "metadata": {},
   "outputs": [],
   "source": [
    "members_df2 = members_df.limit(20000)"
   ]
  },
  {
   "cell_type": "code",
   "execution_count": 1,
   "id": "8344915b-4940-43bd-bdb9-b6f01ace8335",
   "metadata": {},
   "outputs": [
    {
     "ename": "NameError",
     "evalue": "name 'Session' is not defined",
     "output_type": "error",
     "traceback": [
      "\u001b[0;31m---------------------------------------------------------------------------\u001b[0m",
      "\u001b[0;31mNameError\u001b[0m                                 Traceback (most recent call last)",
      "Input \u001b[0;32mIn [1]\u001b[0m, in \u001b[0;36m<cell line: 1>\u001b[0;34m()\u001b[0m\n\u001b[0;32m----> 1\u001b[0m session \u001b[38;5;241m=\u001b[39m \u001b[43mSession\u001b[49m\u001b[38;5;241m.\u001b[39mfrom_dataframe(\n\u001b[1;32m      2\u001b[0m     privacy_budget\u001b[38;5;241m=\u001b[39mRhoZCDPBudget(epsilon\u001b[38;5;241m=\u001b[39m\u001b[38;5;28mfloat\u001b[39m(\u001b[38;5;124m'\u001b[39m\u001b[38;5;124minf\u001b[39m\u001b[38;5;124m'\u001b[39m)),\n\u001b[1;32m      3\u001b[0m     source_id\u001b[38;5;241m=\u001b[39m\u001b[38;5;124m\"\u001b[39m\u001b[38;5;124mmembers\u001b[39m\u001b[38;5;124m\"\u001b[39m,\n\u001b[1;32m      4\u001b[0m     dataframe\u001b[38;5;241m=\u001b[39mmembers_df2,\n\u001b[1;32m      5\u001b[0m )\n",
      "\u001b[0;31mNameError\u001b[0m: name 'Session' is not defined"
     ]
    }
   ],
   "source": [
    "session = Session.from_dataframe(\n",
    "    privacy_budget=PureDPBudget(epsilon=float('inf')),\n",
    "    source_id=\"members\",\n",
    "    dataframe=members_df2,\n",
    ")"
   ]
  },
  {
   "cell_type": "code",
   "execution_count": 71,
   "id": "7e14a796-d966-4e17-b9bc-2e38340b3619",
   "metadata": {},
   "outputs": [
    {
     "name": "stdout",
     "output_type": "stream",
     "text": [
      "+----------------------+------------------+\n",
      "|education_level       |age_average       |\n",
      "+----------------------+------------------+\n",
      "|up-to-high-school     |17.585650723025587|\n",
      "|high-school-diploma   |43.749186515683974|\n",
      "|bachelors-associate   |46.45956251254265 |\n",
      "|doctorate-professional|48.647279549718576|\n",
      "|masters-degree        |50.98913043478261 |\n",
      "+----------------------+------------------+\n",
      "\n"
     ]
    }
   ],
   "source": [
    "edu_average_ages = session.evaluate(\n",
    "    edu_average_age_query,\n",
    "    privacy_budget=PureDPBudget(0.1),\n",
    ")\n",
    "edu_average_ages.sort(\"age_average\").show(truncate=False)"
   ]
  },
  {
   "cell_type": "code",
   "execution_count": 72,
   "id": "c98583ea-a3fe-47cc-a61b-81c376963fb2",
   "metadata": {},
   "outputs": [
    {
     "data": {
      "text/html": [
       "<div>\n",
       "<style scoped>\n",
       "    .dataframe tbody tr th:only-of-type {\n",
       "        vertical-align: middle;\n",
       "    }\n",
       "\n",
       "    .dataframe tbody tr th {\n",
       "        vertical-align: top;\n",
       "    }\n",
       "\n",
       "    .dataframe thead th {\n",
       "        text-align: right;\n",
       "    }\n",
       "</style>\n",
       "<table border=\"1\" class=\"dataframe\">\n",
       "  <thead>\n",
       "    <tr style=\"text-align: right;\">\n",
       "      <th></th>\n",
       "      <th>age</th>\n",
       "    </tr>\n",
       "    <tr>\n",
       "      <th>education_level</th>\n",
       "      <th></th>\n",
       "    </tr>\n",
       "  </thead>\n",
       "  <tbody>\n",
       "    <tr>\n",
       "      <th>up-to-high-school</th>\n",
       "      <td>17.911909</td>\n",
       "    </tr>\n",
       "    <tr>\n",
       "      <th>high-school-diploma</th>\n",
       "      <td>43.677985</td>\n",
       "    </tr>\n",
       "    <tr>\n",
       "      <th>bachelors-associate</th>\n",
       "      <td>46.529593</td>\n",
       "    </tr>\n",
       "    <tr>\n",
       "      <th>masters-degree</th>\n",
       "      <td>49.689992</td>\n",
       "    </tr>\n",
       "    <tr>\n",
       "      <th>doctorate-professional</th>\n",
       "      <td>52.669280</td>\n",
       "    </tr>\n",
       "  </tbody>\n",
       "</table>\n",
       "</div>"
      ],
      "text/plain": [
       "                              age\n",
       "education_level                  \n",
       "up-to-high-school       17.911909\n",
       "high-school-diploma     43.677985\n",
       "bachelors-associate     46.529593\n",
       "masters-degree          49.689992\n",
       "doctorate-professional  52.669280"
      ]
     },
     "execution_count": 72,
     "metadata": {},
     "output_type": "execute_result"
    }
   ],
   "source": [
    "df1"
   ]
  },
  {
   "cell_type": "code",
   "execution_count": 73,
   "id": "b15fbaaf-b303-4c5c-94c3-cdcefbd719c8",
   "metadata": {},
   "outputs": [
    {
     "name": "stderr",
     "output_type": "stream",
     "text": [
      "/home/anshu/Work/tumult_labs/env/lib/python3.7/site-packages/pyspark/sql/pandas/functions.py:386: UserWarning: In Python 3.6+ and Spark 3.0+, it is preferred to specify type hints for pandas UDF instead of specifying pandas UDF type which will be deprecated in the future releases. See SPARK-28264 for more details.\n",
      "  \"in the future releases. See SPARK-28264 for more details.\", UserWarning)\n"
     ]
    },
    {
     "name": "stdout",
     "output_type": "stream",
     "text": [
      "+----------------------+------------------+\n",
      "|education_level       |age_average       |\n",
      "+----------------------+------------------+\n",
      "|up-to-high-school     |17.839147998531033|\n",
      "|high-school-diploma   |43.608460149600205|\n",
      "|bachelors-associate   |46.895920701486844|\n",
      "|masters-degree        |49.754772393538914|\n",
      "|doctorate-professional|55.13333333333333 |\n",
      "+----------------------+------------------+\n",
      "\n"
     ]
    }
   ],
   "source": [
    "members_df3 = members_df.limit(10000)\n",
    "\n",
    "session = Session.from_dataframe(\n",
    "    privacy_budget=PureDPBudget(epsilon=float('inf')),\n",
    "    source_id=\"members\",\n",
    "    dataframe=members_df3,\n",
    ")\n",
    "\n",
    "edu_average_ages = session.evaluate(\n",
    "    edu_average_age_query,\n",
    "    privacy_budget=PureDPBudget(0.1),\n",
    ")\n",
    "\n",
    "edu_average_ages.sort(\"age_average\").show(truncate=False)"
   ]
  },
  {
   "cell_type": "code",
   "execution_count": 74,
   "id": "24c59130-12ca-47f7-b91d-0544ded82a44",
   "metadata": {},
   "outputs": [
    {
     "data": {
      "text/html": [
       "<div>\n",
       "<style scoped>\n",
       "    .dataframe tbody tr th:only-of-type {\n",
       "        vertical-align: middle;\n",
       "    }\n",
       "\n",
       "    .dataframe tbody tr th {\n",
       "        vertical-align: top;\n",
       "    }\n",
       "\n",
       "    .dataframe thead th {\n",
       "        text-align: right;\n",
       "    }\n",
       "</style>\n",
       "<table border=\"1\" class=\"dataframe\">\n",
       "  <thead>\n",
       "    <tr style=\"text-align: right;\">\n",
       "      <th></th>\n",
       "      <th>age</th>\n",
       "    </tr>\n",
       "    <tr>\n",
       "      <th>education_level</th>\n",
       "      <th></th>\n",
       "    </tr>\n",
       "  </thead>\n",
       "  <tbody>\n",
       "    <tr>\n",
       "      <th>up-to-high-school</th>\n",
       "      <td>17.911909</td>\n",
       "    </tr>\n",
       "    <tr>\n",
       "      <th>high-school-diploma</th>\n",
       "      <td>43.677985</td>\n",
       "    </tr>\n",
       "    <tr>\n",
       "      <th>bachelors-associate</th>\n",
       "      <td>46.529593</td>\n",
       "    </tr>\n",
       "    <tr>\n",
       "      <th>masters-degree</th>\n",
       "      <td>49.689992</td>\n",
       "    </tr>\n",
       "    <tr>\n",
       "      <th>doctorate-professional</th>\n",
       "      <td>52.669280</td>\n",
       "    </tr>\n",
       "  </tbody>\n",
       "</table>\n",
       "</div>"
      ],
      "text/plain": [
       "                              age\n",
       "education_level                  \n",
       "up-to-high-school       17.911909\n",
       "high-school-diploma     43.677985\n",
       "bachelors-associate     46.529593\n",
       "masters-degree          49.689992\n",
       "doctorate-professional  52.669280"
      ]
     },
     "execution_count": 74,
     "metadata": {},
     "output_type": "execute_result"
    }
   ],
   "source": [
    "df1"
   ]
  },
  {
   "cell_type": "code",
   "execution_count": 83,
   "id": "dbfd3ffe-5f9c-4115-86b6-abb7bba8b09a",
   "metadata": {},
   "outputs": [
    {
     "name": "stderr",
     "output_type": "stream",
     "text": [
      "/home/anshu/Work/tumult_labs/env/lib/python3.7/site-packages/pyspark/sql/pandas/functions.py:386: UserWarning: In Python 3.6+ and Spark 3.0+, it is preferred to specify type hints for pandas UDF instead of specifying pandas UDF type which will be deprecated in the future releases. See SPARK-28264 for more details.\n",
      "  \"in the future releases. See SPARK-28264 for more details.\", UserWarning)\n"
     ]
    },
    {
     "name": "stdout",
     "output_type": "stream",
     "text": [
      "+----------------------+-----------------+\n",
      "|education_level       |age_average      |\n",
      "+----------------------+-----------------+\n",
      "|up-to-high-school     |20.76109467455621|\n",
      "|high-school-diploma   |43.95385422128999|\n",
      "|doctorate-professional|44.87155963302752|\n",
      "|bachelors-associate   |48.02882305844676|\n",
      "|masters-degree        |57.42265193370166|\n",
      "+----------------------+-----------------+\n",
      "\n"
     ]
    }
   ],
   "source": [
    "members_df4 = members_df.limit(5000)\n",
    "\n",
    "session = Session.from_dataframe(\n",
    "    privacy_budget=PureDPBudget(epsilon=float('inf')),\n",
    "    source_id=\"members\",\n",
    "    dataframe=members_df4,\n",
    ")\n",
    "\n",
    "edu_average_ages = session.evaluate(\n",
    "    edu_average_age_query,\n",
    "    privacy_budget=PureDPBudget(0.1),\n",
    ")\n",
    "\n",
    "edu_average_ages.sort(\"age_average\").show(truncate=False)"
   ]
  },
  {
   "cell_type": "code",
   "execution_count": 84,
   "id": "ddaea4d3-b140-4852-a4ec-02cd178d683b",
   "metadata": {},
   "outputs": [
    {
     "name": "stdout",
     "output_type": "stream",
     "text": [
      "+----------------------+------------------+\n",
      "|education_level       |age_average       |\n",
      "+----------------------+------------------+\n",
      "|up-to-high-school     |9.860169491525426 |\n",
      "|masters-degree        |35.267605633802816|\n",
      "|high-school-diploma   |45.72119815668203 |\n",
      "|bachelors-associate   |46.21455938697318 |\n",
      "|doctorate-professional|72.87878787878788 |\n",
      "+----------------------+------------------+\n",
      "\n"
     ]
    }
   ],
   "source": [
    "members_df5 = members_df.limit(1000)\n",
    "\n",
    "session = Session.from_dataframe(\n",
    "    privacy_budget=PureDPBudget(epsilon=float('inf')),\n",
    "    source_id=\"members\",\n",
    "    dataframe=members_df5,\n",
    ")\n",
    "\n",
    "edu_average_ages = session.evaluate(\n",
    "    edu_average_age_query,\n",
    "    privacy_budget=PureDPBudget(0.1),\n",
    ")\n",
    "\n",
    "edu_average_ages.sort(\"age_average\").show(truncate=False)"
   ]
  },
  {
   "cell_type": "code",
   "execution_count": 85,
   "id": "4efcb2ba-9275-4c51-bcf4-421dd8c10336",
   "metadata": {},
   "outputs": [
    {
     "data": {
      "text/html": [
       "<div>\n",
       "<style scoped>\n",
       "    .dataframe tbody tr th:only-of-type {\n",
       "        vertical-align: middle;\n",
       "    }\n",
       "\n",
       "    .dataframe tbody tr th {\n",
       "        vertical-align: top;\n",
       "    }\n",
       "\n",
       "    .dataframe thead th {\n",
       "        text-align: right;\n",
       "    }\n",
       "</style>\n",
       "<table border=\"1\" class=\"dataframe\">\n",
       "  <thead>\n",
       "    <tr style=\"text-align: right;\">\n",
       "      <th></th>\n",
       "      <th>age</th>\n",
       "    </tr>\n",
       "    <tr>\n",
       "      <th>education_level</th>\n",
       "      <th></th>\n",
       "    </tr>\n",
       "  </thead>\n",
       "  <tbody>\n",
       "    <tr>\n",
       "      <th>up-to-high-school</th>\n",
       "      <td>17.911909</td>\n",
       "    </tr>\n",
       "    <tr>\n",
       "      <th>high-school-diploma</th>\n",
       "      <td>43.677985</td>\n",
       "    </tr>\n",
       "    <tr>\n",
       "      <th>bachelors-associate</th>\n",
       "      <td>46.529593</td>\n",
       "    </tr>\n",
       "    <tr>\n",
       "      <th>masters-degree</th>\n",
       "      <td>49.689992</td>\n",
       "    </tr>\n",
       "    <tr>\n",
       "      <th>doctorate-professional</th>\n",
       "      <td>52.669280</td>\n",
       "    </tr>\n",
       "  </tbody>\n",
       "</table>\n",
       "</div>"
      ],
      "text/plain": [
       "                              age\n",
       "education_level                  \n",
       "up-to-high-school       17.911909\n",
       "high-school-diploma     43.677985\n",
       "bachelors-associate     46.529593\n",
       "masters-degree          49.689992\n",
       "doctorate-professional  52.669280"
      ]
     },
     "execution_count": 85,
     "metadata": {},
     "output_type": "execute_result"
    }
   ],
   "source": [
    "df1"
   ]
  },
  {
   "cell_type": "code",
   "execution_count": 86,
   "id": "4e3eb9b1-fd9b-418c-a4ec-83bb6b35963e",
   "metadata": {},
   "outputs": [
    {
     "name": "stderr",
     "output_type": "stream",
     "text": [
      "/home/anshu/Work/tumult_labs/env/lib/python3.7/site-packages/pyspark/sql/pandas/functions.py:386: UserWarning: In Python 3.6+ and Spark 3.0+, it is preferred to specify type hints for pandas UDF instead of specifying pandas UDF type which will be deprecated in the future releases. See SPARK-28264 for more details.\n",
      "  \"in the future releases. See SPARK-28264 for more details.\", UserWarning)\n"
     ]
    },
    {
     "name": "stdout",
     "output_type": "stream",
     "text": [
      "+----------------------+-----------------+\n",
      "|education_level       |age_average      |\n",
      "+----------------------+-----------------+\n",
      "|masters-degree        |-66.95           |\n",
      "|up-to-high-school     |5.796296296296298|\n",
      "|doctorate-professional|35.09090909090909|\n",
      "|bachelors-associate   |38.66666666666667|\n",
      "|high-school-diploma   |47.62295081967213|\n",
      "+----------------------+-----------------+\n",
      "\n"
     ]
    }
   ],
   "source": [
    "members_df5 = members_df.limit(500)\n",
    "\n",
    "session = Session.from_dataframe(\n",
    "    privacy_budget=PureDPBudget(epsilon=float('inf')),\n",
    "    source_id=\"members\",\n",
    "    dataframe=members_df5,\n",
    ")\n",
    "\n",
    "edu_average_ages = session.evaluate(\n",
    "    edu_average_age_query,\n",
    "    privacy_budget=PureDPBudget(0.1),\n",
    ")\n",
    "\n",
    "edu_average_ages.sort(\"age_average\").show(truncate=False)"
   ]
  },
  {
   "cell_type": "code",
   "execution_count": 87,
   "id": "b2eff02e-0f3e-4063-a2d2-3b23b95174ae",
   "metadata": {},
   "outputs": [
    {
     "data": {
      "text/html": [
       "<div>\n",
       "<style scoped>\n",
       "    .dataframe tbody tr th:only-of-type {\n",
       "        vertical-align: middle;\n",
       "    }\n",
       "\n",
       "    .dataframe tbody tr th {\n",
       "        vertical-align: top;\n",
       "    }\n",
       "\n",
       "    .dataframe thead th {\n",
       "        text-align: right;\n",
       "    }\n",
       "</style>\n",
       "<table border=\"1\" class=\"dataframe\">\n",
       "  <thead>\n",
       "    <tr style=\"text-align: right;\">\n",
       "      <th></th>\n",
       "      <th>age</th>\n",
       "    </tr>\n",
       "    <tr>\n",
       "      <th>education_level</th>\n",
       "      <th></th>\n",
       "    </tr>\n",
       "  </thead>\n",
       "  <tbody>\n",
       "    <tr>\n",
       "      <th>up-to-high-school</th>\n",
       "      <td>17.911909</td>\n",
       "    </tr>\n",
       "    <tr>\n",
       "      <th>high-school-diploma</th>\n",
       "      <td>43.677985</td>\n",
       "    </tr>\n",
       "    <tr>\n",
       "      <th>bachelors-associate</th>\n",
       "      <td>46.529593</td>\n",
       "    </tr>\n",
       "    <tr>\n",
       "      <th>masters-degree</th>\n",
       "      <td>49.689992</td>\n",
       "    </tr>\n",
       "    <tr>\n",
       "      <th>doctorate-professional</th>\n",
       "      <td>52.669280</td>\n",
       "    </tr>\n",
       "  </tbody>\n",
       "</table>\n",
       "</div>"
      ],
      "text/plain": [
       "                              age\n",
       "education_level                  \n",
       "up-to-high-school       17.911909\n",
       "high-school-diploma     43.677985\n",
       "bachelors-associate     46.529593\n",
       "masters-degree          49.689992\n",
       "doctorate-professional  52.669280"
      ]
     },
     "execution_count": 87,
     "metadata": {},
     "output_type": "execute_result"
    }
   ],
   "source": [
    "df1"
   ]
  },
  {
   "cell_type": "code",
   "execution_count": null,
   "id": "bf9c85cf-b81f-4d40-b759-d51ce4260cf1",
   "metadata": {},
   "outputs": [],
   "source": []
  }
 ],
 "metadata": {
  "kernelspec": {
   "display_name": "Python 3 (ipykernel)",
   "language": "python",
   "name": "python3"
  },
  "language_info": {
   "codemirror_mode": {
    "name": "ipython",
    "version": 3
   },
   "file_extension": ".py",
   "mimetype": "text/x-python",
   "name": "python",
   "nbconvert_exporter": "python",
   "pygments_lexer": "ipython3",
   "version": "3.8.11"
  }
 },
 "nbformat": 4,
 "nbformat_minor": 5
}
