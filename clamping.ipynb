{
 "cells": [
  {
   "cell_type": "code",
   "execution_count": 2,
   "id": "c6dc8864-5be8-4773-8c0c-b896b13d291a",
   "metadata": {},
   "outputs": [],
   "source": [
    "import os\n",
    "import requests\n",
    "from pyspark.sql import SparkSession\n",
    "from tmlt.analytics.privacy_budget import PureDPBudget\n",
    "from tmlt.analytics.query_builder import QueryBuilder\n",
    "from tmlt.analytics.session import Session\n",
    "\n",
    "r = requests.get(\n",
    "    'https://tumult-public.s3.amazonaws.com/library-members.csv',\n",
    ")\n",
    "with open(\"members.csv\", \"w\") as f:\n",
    "    f.write(r.text)\n",
    "spark = SparkSession.builder.getOrCreate()\n",
    "members_df = spark.read.csv(\"members.csv\", header=True, inferSchema=True)"
   ]
  },
  {
   "cell_type": "code",
   "execution_count": 4,
   "id": "fdc16042-2a8f-430a-83fe-7ed042d11f3e",
   "metadata": {},
   "outputs": [],
   "source": [
    "session = Session.from_dataframe(\n",
    "    privacy_budget=PureDPBudget(epsilon=float('inf')),\n",
    "    source_id=\"members\",\n",
    "    dataframe=members_df,\n",
    ")"
   ]
  },
  {
   "cell_type": "code",
   "execution_count": 9,
   "id": "dd3f6449-6be7-4ba8-b4ab-7e0ded4410e0",
   "metadata": {},
   "outputs": [
    {
     "name": "stderr",
     "output_type": "stream",
     "text": [
      "[Stage 155:>                                                        (0 + 1) / 1]\r"
     ]
    },
    {
     "name": "stdout",
     "output_type": "stream",
     "text": [
      "+-----------------+\n",
      "|      age_average|\n",
      "+-----------------+\n",
      "|38.04638766438571|\n",
      "+-----------------+\n",
      "\n"
     ]
    },
    {
     "name": "stderr",
     "output_type": "stream",
     "text": [
      "\r",
      "                                                                                \r"
     ]
    }
   ],
   "source": [
    "mean_age_query = QueryBuilder(\"members\").average(\"age\", low=0, high=200)\n",
    "mean_age = session.evaluate(\n",
    "    mean_age_query,\n",
    "    privacy_budget=PureDPBudget(epsilon=10)\n",
    ")\n",
    "mean_age.show()"
   ]
  },
  {
   "cell_type": "code",
   "execution_count": 7,
   "id": "94ca7b66-d677-4f83-b50f-fa51c198bdc1",
   "metadata": {},
   "outputs": [],
   "source": [
    "itms_list = members_df.select('id').collect()"
   ]
  },
  {
   "cell_type": "code",
   "execution_count": null,
   "id": "54739aa2-f192-42c6-8846-8e44fe9b4e33",
   "metadata": {},
   "outputs": [],
   "source": [
    "itms_array = [int(row.id) for row in itms_list]"
   ]
  },
  {
   "cell_type": "code",
   "execution_count": 8,
   "id": "99639e48-991e-425a-b278-18bcfcef13e1",
   "metadata": {},
   "outputs": [
    {
     "ename": "NameError",
     "evalue": "name 'itms_array' is not defined",
     "output_type": "error",
     "traceback": [
      "\u001b[0;31m---------------------------------------------------------------------------\u001b[0m",
      "\u001b[0;31mNameError\u001b[0m                                 Traceback (most recent call last)",
      "Input \u001b[0;32mIn [8]\u001b[0m, in \u001b[0;36m<cell line: 3>\u001b[0;34m()\u001b[0m\n\u001b[1;32m      1\u001b[0m \u001b[38;5;28;01mfrom\u001b[39;00m \u001b[38;5;21;01mtmlt\u001b[39;00m\u001b[38;5;21;01m.\u001b[39;00m\u001b[38;5;21;01manalytics\u001b[39;00m\u001b[38;5;21;01m.\u001b[39;00m\u001b[38;5;21;01mkeyset\u001b[39;00m \u001b[38;5;28;01mimport\u001b[39;00m KeySet\n\u001b[1;32m      3\u001b[0m edu_levels \u001b[38;5;241m=\u001b[39m KeySet\u001b[38;5;241m.\u001b[39mfrom_dict({\n\u001b[0;32m----> 4\u001b[0m     \u001b[38;5;124m\"\u001b[39m\u001b[38;5;124mid\u001b[39m\u001b[38;5;124m\"\u001b[39m: \u001b[43mitms_array\u001b[49m\n\u001b[1;32m      5\u001b[0m })\n",
      "\u001b[0;31mNameError\u001b[0m: name 'itms_array' is not defined"
     ]
    }
   ],
   "source": [
    "from tmlt.analytics.keyset import KeySet\n",
    "\n",
    "edu_levels = KeySet.from_dict({\n",
    "    \"id\": itms_array\n",
    "})"
   ]
  },
  {
   "cell_type": "code",
   "execution_count": 27,
   "id": "0e96d658-3fab-4d4c-9c96-b81ba4f24901",
   "metadata": {},
   "outputs": [
    {
     "data": {
      "text/plain": [
       "54217"
      ]
     },
     "execution_count": 27,
     "metadata": {},
     "output_type": "execute_result"
    }
   ],
   "source": [
    "len(itms_array)"
   ]
  },
  {
   "cell_type": "code",
   "execution_count": null,
   "id": "e40ad1ff-5853-4e08-98ef-31b8bdf52b35",
   "metadata": {},
   "outputs": [],
   "source": [
    "edu_average_age_query = (\n",
    "    QueryBuilder(\"members\")\n",
    "    .groupby(edu_levels)\n",
    "    .average(\"age\", low=0, high=120)\n",
    ")\n",
    "edu_average_ages = session.evaluate(\n",
    "    edu_average_age_query,\n",
    "    privacy_budget=PureDPBudget(100),\n",
    ")\n",
    "edu_average_ages.sort(\"age_average\").show(truncate=False)"
   ]
  },
  {
   "cell_type": "code",
   "execution_count": null,
   "id": "b590158e-bf32-4642-b047-e49652a4cfbb",
   "metadata": {},
   "outputs": [],
   "source": []
  }
 ],
 "metadata": {
  "kernelspec": {
   "display_name": "Python 3 (ipykernel)",
   "language": "python",
   "name": "python3"
  },
  "language_info": {
   "codemirror_mode": {
    "name": "ipython",
    "version": 3
   },
   "file_extension": ".py",
   "mimetype": "text/x-python",
   "name": "python",
   "nbconvert_exporter": "python",
   "pygments_lexer": "ipython3",
   "version": "3.8.11"
  }
 },
 "nbformat": 4,
 "nbformat_minor": 5
}
