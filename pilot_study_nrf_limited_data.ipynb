{
 "cells": [
  {
   "cell_type": "code",
   "execution_count": 4,
   "id": "30fc3f3e-a9f1-4014-8256-1d50cf566f95",
   "metadata": {},
   "outputs": [],
   "source": [
    "import os\n",
    "import requests\n",
    "import pandas as pd\n",
    "from pyspark.sql import SparkSession\n",
    "from tmlt.analytics.privacy_budget import PureDPBudget, RhoZCDPBudget\n",
    "from tmlt.analytics.query_builder import QueryBuilder\n",
    "from tmlt.analytics.session import Session\n",
    "from pyspark.sql.functions import desc, asc"
   ]
  },
  {
   "cell_type": "code",
   "execution_count": 5,
   "id": "a198c923-ee01-4a3b-b5b5-7cdb076b182b",
   "metadata": {},
   "outputs": [],
   "source": [
    "from tmlt.core.transformations.spark_transformations.filter import Filter\n",
    "from tmlt.core.transformations.spark_transformations.agg import Count\n",
    "from tmlt.core.domains.spark_domains import convert_spark_schema, SparkDataFrameDomain\n",
    "from tmlt.core.metrics import SymmetricDifference\n",
    "from tmlt.core.measurements.noise_mechanisms import AddGeometricNoise\n",
    "from tmlt.core.utils.misc import print_sdf"
   ]
  },
  {
   "cell_type": "code",
   "execution_count": 6,
   "id": "45479713-5ce5-4673-a52a-d86c957229ca",
   "metadata": {},
   "outputs": [],
   "source": [
    "import warnings\n",
    "warnings.filterwarnings('ignore')"
   ]
  },
  {
   "cell_type": "code",
   "execution_count": 7,
   "id": "bc005cf3-ad11-4bc9-a353-b84e58b76e0c",
   "metadata": {},
   "outputs": [],
   "source": [
    "from tmlt.analytics.keyset import KeySet"
   ]
  },
  {
   "cell_type": "code",
   "execution_count": 8,
   "id": "d0d9415d-41f1-4d95-a6a1-855f535a2b7c",
   "metadata": {},
   "outputs": [],
   "source": [
    "import numpy as np\n",
    "import seaborn as sns\n",
    "import pandas as pd\n",
    "import matplotlib.pyplot as plt"
   ]
  },
  {
   "cell_type": "code",
   "execution_count": 9,
   "id": "6cff9a17-8b81-41b7-a9ca-3b923ea4f132",
   "metadata": {},
   "outputs": [
    {
     "name": "stderr",
     "output_type": "stream",
     "text": [
      "22/07/13 12:41:59 WARN NativeCodeLoader: Unable to load native-hadoop library for your platform... using builtin-java classes where applicable\n",
      "Using Spark's default log4j profile: org/apache/spark/log4j-defaults.properties\n",
      "Setting default log level to \"WARN\".\n",
      "To adjust logging level use sc.setLogLevel(newLevel). For SparkR, use setLogLevel(newLevel).\n",
      "22/07/13 12:41:59 WARN Utils: Service 'SparkUI' could not bind on port 4040. Attempting port 4041.\n"
     ]
    }
   ],
   "source": [
    "spark = SparkSession.builder.getOrCreate()"
   ]
  },
  {
   "cell_type": "code",
   "execution_count": 26,
   "id": "0b8450f5-34d9-4791-b323-aefcd18ba6fb",
   "metadata": {},
   "outputs": [],
   "source": [
    "# \"\"\"\n",
    "# |-----|-----|-------------|------------------------|----------------------------|----------------------------|\n",
    "# |SSIC | UEN | staff_count | innovation_expenditure | intramural_r&d_expenditure | extramural_r&d_expenditure |\n",
    "# |-------------------------------------------------------------------------------------------------------------\n",
    "# | S0  |  1  |   234       |    23000.508          |       3050.231               |   56000.000              |\n",
    "# | S1  |  2  |   234       |    23000.508          |       3050.231                |   56000.000              |\n",
    "# | S0  |  3  |   234       |    23000.508          |       250.231                |   56000.000              |\n",
    "# | S2  |  4  |   234       |    23000.508          |       650.231                |   56000.000              |\n",
    "# | S3  |  5  |   234       |    23000.508          |       3050.231                |   56000.000              |\n",
    "# | S2  |  6  |   234       |    23000.508          |       3050.231                |   56000.000              |\n",
    "# |-------------------------------------------------------------------------------------------------------------\n",
    "\n",
    "# Types:\n",
    "# SSIC: string \n",
    "# UEN: integer (unique values generated using counter)\n",
    "# innovation_expenditure: float (default to 3 decimal places)\n",
    "# intramural_r&d_expenditure: float (default to 3 decimal places)\n",
    "# extramural_r&d_expenditure: float (default to 3 decimal places)\n",
    "# \"\"\"\n",
    "\n",
    "# def create_simulated_data(no_of_records=40, no_of_sectors=5, decimal_points=3):\n",
    "#     simulated_data = pd.DataFrame()     \n",
    "    \n",
    "#     # setting sectors name as S1 ..... S[no_of_sectors]\n",
    "#     SSIC = [\"S\" + str(sector_no) for sector_no in range(1, no_of_sectors + 1)]\n",
    "#     simulated_data[\"SSIC\"] = np.random.choice(SSIC, size=no_of_records) \n",
    "    \n",
    "#     # no of records == no of uniques UENs(firms)\n",
    "#     simulated_data[\"UEN\"] = list(range(1, no_of_records + 1))                                                                                                                                         \n",
    "    \n",
    "#     # using gamma distribution \n",
    "#     # https://en.wikipedia.org/wiki/Gamma_distribution\n",
    "#     simulated_data[\"staff_count\"] = np.random.gamma(2, 150, size=no_of_records).astype(int)\n",
    "    \n",
    "#     simulated_data[\"innovation_expenditure\"] = np.round(np.random.gamma(10, 300, size=no_of_records), decimal_points) \n",
    "#     simulated_data[\"intramural_r&d_expenditure\"] = np.round(np.random.gamma(10, 300, size=no_of_records), decimal_points) \n",
    "#     simulated_data[\"extramural_r&d_expenditure\"] = np.round(np.random.gamma(10, 300, size=no_of_records), decimal_points) \n",
    "    \n",
    "#     return simulated_data\n",
    "\n",
    "\n",
    "# def save_data(data, filename=\"simulated_data.csv\"):\n",
    "#     data.to_csv(filename, mode='w', index=False)\n"
   ]
  },
  {
   "cell_type": "code",
   "execution_count": 11,
   "id": "5f03de65-d04d-4d8b-a438-1f73cdd3a65a",
   "metadata": {},
   "outputs": [],
   "source": [
    "\"\"\"\n",
    "|-----|-----|-------------|------------------------|----------------------------|----------------------------|\n",
    "|SSIC | UEN | staff_count | innovation_expenditure | intramural_r&d_expenditure | extramural_r&d_expenditure |\n",
    "|-------------------------------------------------------------------------------------------------------------\n",
    "| S0  |  1  |   234       |    23000.508          |       3050.231               |   56000.000              |\n",
    "| S1  |  2  |   234       |    23000.508          |       3050.231                |   56000.000              |\n",
    "| S0  |  3  |   234       |    23000.508          |       250.231                |   56000.000              |\n",
    "| S2  |  4  |   234       |    23000.508          |       650.231                |   56000.000              |\n",
    "| S3  |  5  |   234       |    23000.508          |       3050.231                |   56000.000              |\n",
    "| S2  |  6  |   234       |    23000.508          |       3050.231                |   56000.000              |\n",
    "|-------------------------------------------------------------------------------------------------------------\n",
    "\n",
    "Types:\n",
    "SSIC: string \n",
    "UEN: integer (unique values generated using counter)\n",
    "innovation_expenditure: float (default to 3 decimal places)\n",
    "intramural_r&d_expenditure: float (default to 3 decimal places)\n",
    "extramural_r&d_expenditure: float (default to 3 decimal places)\n",
    "\"\"\"\n",
    "\n",
    "# excluding \"Foreign Firm\" for now \n",
    "FIRM_TYPES = [\"LLC\", \"MNC\", \"SME\"] \n",
    "\n",
    "#Government\", \"Private Sector Company\", \"Institute of Higher Learning\", \"Public Research Institute\"\n",
    "OWNERSHIP_TYPES = [\"Gov\", \"IHL\", \"Public RI\", \"Private\"]\n",
    "\n",
    "FIRM_PUBLIC_PRIVATE = {\n",
    "    \"public\": OWNERSHIP_TYPES[:3],\n",
    "    \"private\": OWNERSHIP_TYPES[-1]\n",
    "}\n",
    "\n",
    "NATIONALITY_TYPES = [\"SC\", \"PR\", \"FC\"]\n",
    "\n",
    "QUALIFICATION_TYPES = [\"PhD\", \"Masters\", \"Bachelors\", \"Non-degree\", \"Post-grad\"]\n",
    "\n",
    "\n",
    "def create_simulated_data(no_of_records=14, no_of_sectors=3, decimal_points=3):\n",
    "    simulated_data = pd.DataFrame()     \n",
    "    \n",
    "    # setting sectors name as S1 ..... S[no_of_sectors]\n",
    "    SSIC = [\"S\" + str(sector_no) for sector_no in range(1, no_of_sectors + 1)]\n",
    "    simulated_data[\"SSIC\"] = np.random.choice(SSIC, size=no_of_records) \n",
    "    \n",
    "    # no of records == no of uniques UENs(firms)\n",
    "    simulated_data[\"UEN\"] = list(range(1, no_of_records + 1))                                                                                                                                         \n",
    "    \n",
    "    # firm type \n",
    "    simulated_data[\"firm_type\"] = np.random.choice(FIRM_TYPES, size=no_of_records) \n",
    "    \n",
    "    #ownership type\n",
    "    simulated_data[\"ownership_type\"] = np.random.choice(OWNERSHIP_TYPES, size=no_of_records)\n",
    "    \n",
    "    # berd\n",
    "    simulated_data[\"exp_total_rnd\"] = np.round(np.random.gamma(10, 300, size=no_of_records), decimal_points) \n",
    "    \n",
    "    # using gamma distribution \n",
    "    # https://en.wikipedia.org/wiki/Gamma_distribution\n",
    "    simulated_data[\"no_sc_researchers\"] = np.random.gamma(2, 150, size=no_of_records).astype(int)\n",
    "    simulated_data[\"no_pr_researchers\"] = np.random.gamma(2, 150, size=no_of_records).astype(int)\n",
    "    simulated_data[\"no_fc_researchers\"] = np.random.gamma(2, 150, size=no_of_records).astype(int)\n",
    "    \n",
    "    simulated_data[\"no_phd_researchers\"] = np.random.gamma(2, 150, size=no_of_records).astype(int)\n",
    "    simulated_data[\"no_masters_researchers\"] = np.random.gamma(2, 150, size=no_of_records).astype(int)\n",
    "    simulated_data[\"no_bachelors_researchers\"] = np.random.gamma(2, 150, size=no_of_records).astype(int)\n",
    "    simulated_data[\"no_nondegree_researchers\"] = np.random.gamma(2, 150, size=no_of_records).astype(int)\n",
    "    simulated_data[\"no_postgrad_researchers\"] = np.random.gamma(2, 150, size=no_of_records).astype(int)\n",
    "     \n",
    "    return simulated_data\n",
    "\n",
    "\n",
    "def save_data(data, filename=\"simulated_limited_data.csv\"):\n",
    "    data.to_csv(filename, mode='w', index=False)"
   ]
  },
  {
   "cell_type": "code",
   "execution_count": 13,
   "id": "a9b48e9b-f8d1-453e-bdc9-ad7765223f4a",
   "metadata": {},
   "outputs": [],
   "source": [
    "spark = (\n",
    "    SparkSession.builder\n",
    "    .config(\"spark.driver.extraJavaOptions\", \"-Dio.netty.tryReflectionSetAccessible=true\")\n",
    "    .config(\"spark.executor.extraJavaOptions\", \"-Dio.netty.tryReflectionSetAccessible=true\")\n",
    "    .getOrCreate()\n",
    ")"
   ]
  },
  {
   "cell_type": "code",
   "execution_count": 28,
   "id": "031c8691-305e-44e0-8b40-3bde29601a47",
   "metadata": {},
   "outputs": [
    {
     "name": "stdout",
     "output_type": "stream",
     "text": [
      "+----+-----+\n",
      "|SSIC|count|\n",
      "+----+-----+\n",
      "|  S3|    4|\n",
      "|  S2|    5|\n",
      "|  S1|    5|\n",
      "+----+-----+\n",
      "\n"
     ]
    }
   ],
   "source": [
    "simulated_data = create_simulated_data()\n",
    "save_data(simulated_data)\n",
    "\n",
    "public_data = spark.read.csv(\"simulated_limited_data.csv\", header=True, inferSchema=True)\n",
    "public_data.count()\n",
    "public_data.groupby(public_data.SSIC).count().show()"
   ]
  },
  {
   "cell_type": "code",
   "execution_count": 15,
   "id": "942d70ae-e75a-43a2-84c9-0d5c49a12ccb",
   "metadata": {},
   "outputs": [],
   "source": [
    "# check the distribution\n",
    "# public_data.toPandas().no_postgrad_researchers.hist();\n",
    "# public_data.toPandas().exp_total_rnd.hist();\n",
    "# public_data.toPandas().no_masters_researchers.hist();"
   ]
  },
  {
   "cell_type": "code",
   "execution_count": 29,
   "id": "b1ee6348-f037-46d4-8743-bc8bca956c53",
   "metadata": {},
   "outputs": [
    {
     "name": "stdout",
     "output_type": "stream",
     "text": [
      "+----+---+---------+--------------+-------------+-----------------+-----------------+-----------------+------------------+----------------------+------------------------+------------------------+-----------------------+\n",
      "|SSIC|UEN|firm_type|ownership_type|exp_total_rnd|no_sc_researchers|no_pr_researchers|no_fc_researchers|no_phd_researchers|no_masters_researchers|no_bachelors_researchers|no_nondegree_researchers|no_postgrad_researchers|\n",
      "+----+---+---------+--------------+-------------+-----------------+-----------------+-----------------+------------------+----------------------+------------------------+------------------------+-----------------------+\n",
      "|  S1|  1|      MNC|       Private|     1425.392|              212|               11|              223|               321|                   425|                     200|                     606|                    398|\n",
      "|  S3|  2|      SME|       Private|     2910.566|              371|              408|              296|               353|                    36|                     136|                    1174|                    157|\n",
      "|  S3|  3|      SME|     Public RI|     3021.367|              572|                1|               53|               487|                   474|                     241|                     340|                    182|\n",
      "|  S2|  4|      MNC|       Private|     1869.924|              226|              398|              254|               357|                   383|                     192|                     374|                   1052|\n",
      "|  S3|  5|      LLC|           Gov|     2334.253|              196|              502|              136|               389|                   307|                     398|                     261|                    727|\n",
      "|  S1|  6|      MNC|       Private|     2025.335|              293|              527|              488|                32|                   138|                     744|                     161|                     83|\n",
      "|  S1|  7|      SME|       Private|     2196.949|              213|              432|              168|               405|                   454|                     219|                     345|                    709|\n",
      "|  S2|  8|      SME|           IHL|     3514.673|              327|              176|              314|               465|                   276|                     109|                     155|                    181|\n",
      "|  S2|  9|      LLC|     Public RI|     3303.088|              571|              372|              242|                67|                   759|                     255|                     125|                    541|\n",
      "|  S2| 10|      MNC|     Public RI|     3304.252|               41|              597|              342|               374|                    86|                     105|                     120|                    152|\n",
      "|  S2| 11|      SME|       Private|      2420.63|              150|              520|              306|               118|                    58|                     358|                     109|                    319|\n",
      "|  S1| 12|      SME|           IHL|     2538.634|              100|              103|              196|                53|                   141|                      61|                    1256|                    226|\n",
      "|  S1| 13|      SME|     Public RI|     2107.735|              554|              123|               25|               165|                   264|                     944|                      75|                    530|\n",
      "|  S3| 14|      LLC|     Public RI|     2030.804|               72|              423|              253|               344|                   403|                     269|                     605|                     39|\n",
      "+----+---+---------+--------------+-------------+-----------------+-----------------+-----------------+------------------+----------------------+------------------------+------------------------+-----------------------+\n",
      "\n"
     ]
    }
   ],
   "source": [
    "public_data.show()"
   ]
  },
  {
   "cell_type": "code",
   "execution_count": 30,
   "id": "1ec8c466-1d0d-4854-b37d-74ee5f342a64",
   "metadata": {},
   "outputs": [],
   "source": [
    "from scipy.stats import laplace\n",
    "\n",
    "def print_laplace_confidence_interval(sensitivity, epsilon, confidence_score=0.99):\n",
    "    # formula is noise_scale = stability/epsilon\n",
    "    noise_scale_exact = sensitivity/epsilon\n",
    "    noise_scale_float = float(noise_scale_exact)\n",
    "\n",
    "    # https://en.wikipedia.org/wiki/Laplace_distribution\n",
    "    noise_rvs = laplace(loc=0, scale=noise_scale_float) # b value for Laplace distribution\n",
    "\n",
    "    # print(noise_rvs)\n",
    "    # print(f\"sensitivity: {sensitivity}\")\n",
    "    # # print(sum_privacy_budget)\n",
    "    print(f\"noise scale: {noise_scale_float}\")\n",
    "    print(f\"variance: {noise_rvs.var()}\")\n",
    "\n",
    "    #interval(alpha, loc=0, scale=1)\n",
    "    print(f\"confidence interval: {noise_rvs.interval(confidence_score)}\") \n",
    "    "
   ]
  },
  {
   "cell_type": "code",
   "execution_count": 31,
   "id": "d49b5445-ed6d-4b7e-b4a9-7dcf8b20224a",
   "metadata": {},
   "outputs": [],
   "source": [
    "def visualise(perturbed_df, true_df, attributes, query_type, y_label=\"\", title=\"\", sum_over=None, filter_by=None): \n",
    "    \"\"\"\n",
    "        attributes: \n",
    "        query_type: {count, sum}\n",
    "        y_label:\n",
    "        title: \n",
    "        sum_over: for summation query \n",
    "        filter_by: \n",
    "    \"\"\"\n",
    "\n",
    "    if query_type == \"count\":\n",
    "        pd_perturbed = perturbed_df.toPandas().rename(columns={query_type: 'noisy_' + query_type}).sort_values(\"SSIC\")\n",
    "        \n",
    "        pd_true = true_df\n",
    "        if filter_by == OWNERSHIP_TYPES[-1]:\n",
    "            pd_true = pd_true.filter(true_df.ownership_type == OWNERSHIP_TYPES[-1])\n",
    "        \n",
    "        pd_true = pd_true.groupBy([\"SSIC\"] + attributes).count().toPandas().rename(columns={'count': 'true_' + query_type}).sort_values(\"SSIC\")  \n",
    "            \n",
    "    else:\n",
    "        name = '{}_sum'.format(sum_over)\n",
    "        pd_perturbed = perturbed_df.toPandas().rename(columns={name: 'noisy_' + query_type}).sort_values(\"SSIC\")\n",
    "        name = 'sum({})'.format(sum_over)\n",
    "        pd_true = true_df.groupBy(['SSIC'] + attributes).sum(sum_over).toPandas().rename(columns={name: 'true_' + query_type}).sort_values(\"SSIC\") #.sort(asc(auto_org_name))\n",
    "    \n",
    "    true_perturbed = pd.merge(pd_true, pd_perturbed, on=['SSIC'] + attributes, how='inner')\n",
    "    \n",
    "    if query_type == \"count\": \n",
    "        true_perturbed['error'] = true_perturbed['noisy_count'] - true_perturbed['true_count']\n",
    "    else:\n",
    "        true_perturbed['error'] = true_perturbed['noisy_sum'] - true_perturbed['true_sum']\n",
    "    \n",
    "    x_labels = [\"{}-{}\".format(ssic, attr_val) for ssic, attr_val, in zip(true_perturbed['SSIC'], true_perturbed[attributes[0]])]\n",
    "    \n",
    "    print(true_perturbed.sort_values(\"SSIC\"))\n",
    "    # error = perc_error(results['True'], results['Geom-DP-'+str(epsilon)])\n",
    "    \n",
    "    ax = true_perturbed.plot.bar(rot=45, figsize=(8, 5), width=0.8, fontsize=12, colormap = 'Accent')\n",
    "    plt.title(title, fontsize=16)\n",
    "    plt.xticks(np.arange(len(true_perturbed)), x_labels, rotation=45)    \n",
    "    plt.grid(axis='y', alpha=0.5)\n",
    "    plt.ylabel(y_label, fontsize = 14)\n",
    "    # plt.ylim(-50)\n",
    "    # plt.legend(fontsize = 12, labels=labels)\n",
    "    return plt "
   ]
  },
  {
   "cell_type": "markdown",
   "id": "06774987-a91a-4197-a980-9c3503047402",
   "metadata": {},
   "source": [
    "## Querying -- Sectoral Analysis"
   ]
  },
  {
   "cell_type": "code",
   "execution_count": 32,
   "id": "0e5f126c-d634-4da4-b284-e0576d5b6106",
   "metadata": {},
   "outputs": [
    {
     "name": "stdout",
     "output_type": "stream",
     "text": [
      "Number of firms in each sector\n",
      "+----+-----+\n",
      "|SSIC|count|\n",
      "+----+-----+\n",
      "|  S3|    4|\n",
      "|  S2|    5|\n",
      "|  S1|    5|\n",
      "+----+-----+\n",
      "\n"
     ]
    }
   ],
   "source": [
    "print(\"Number of firms in each sector\")\n",
    "public_data.groupby(public_data.SSIC).count().show()"
   ]
  },
  {
   "cell_type": "code",
   "execution_count": 33,
   "id": "180ca6b8-80ad-4b59-a58e-4f896d392fca",
   "metadata": {},
   "outputs": [
    {
     "name": "stderr",
     "output_type": "stream",
     "text": [
      "                                                                                \r"
     ]
    }
   ],
   "source": [
    "session = Session.from_dataframe(\n",
    "    privacy_budget=PureDPBudget(float('inf')),\n",
    "    source_id=\"sectors_analysis\",\n",
    "    dataframe=public_data\n",
    ")"
   ]
  },
  {
   "cell_type": "markdown",
   "id": "6f15b0c0-4e42-4b4a-8ce9-158b020d0f2a",
   "metadata": {},
   "source": [
    "### 1. Number of R&D firms by Enterprise Type (group by >> count)\n",
    "\n",
    "##### Group by: Sectors -- (SSIC), Enterprise Type (\"SSE\", \"MNC\", \"LLC\") -- (firm_type)"
   ]
  },
  {
   "cell_type": "code",
   "execution_count": 34,
   "id": "6940bfdd-2eb2-477b-9391-4a93ae9620bd",
   "metadata": {},
   "outputs": [],
   "source": [
    "sectors_list = list(set(list(public_data.select('SSIC').toPandas()['SSIC'])))\n",
    "\n",
    "# Partitioning by sector and enterprise/firm type\n",
    "sectors_firm_type_keys = KeySet.from_dict({\n",
    "    \"SSIC\": sectors_list, \n",
    "    \"firm_type\": FIRM_TYPES\n",
    "})"
   ]
  },
  {
   "cell_type": "code",
   "execution_count": null,
   "id": "f5040eab-d099-4301-b0e8-32578ffa576c",
   "metadata": {},
   "outputs": [],
   "source": [
    "epsilon\n",
    "clamping vales. -- min, max"
   ]
  },
  {
   "cell_type": "code",
   "execution_count": 49,
   "id": "efa389b1-7615-40be-aa3b-9df09f993712",
   "metadata": {},
   "outputs": [
    {
     "name": "stdout",
     "output_type": "stream",
     "text": [
      "  SSIC firm_type  true_count  noisy_count  error\n",
      "0   S1       SME           3            3      0\n",
      "1   S1       MNC           2            2      0\n",
      "2   S2       LLC           1            1      0\n",
      "3   S2       MNC           2            2      0\n",
      "4   S2       SME           2            2      0\n",
      "5   S3       SME           2            1     -1\n",
      "6   S3       LLC           2            2      0\n"
     ]
    },
    {
     "data": {
      "image/png": "[encoded data removed]",
      "text/plain": [
       "<Figure size 576x360 with 1 Axes>"
      ]
     },
     "metadata": {
      "needs_background": "light"
     },
     "output_type": "display_data"
    },
    {
     "name": "stdout",
     "output_type": "stream",
     "text": [
      "sensitivity: 1\n"
     ]
    }
   ],
   "source": [
    "# Laplacian noise\n",
    "epsilon = 2 \n",
    "\n",
    "# group by query \n",
    "count_sectors_firm_type_query = (\n",
    "    QueryBuilder(\"sectors_analysis\")\n",
    "    .groupby(sectors_firm_type_keys)\n",
    "    .count() \n",
    ")\n",
    "\n",
    "# privacy budget for the query\n",
    "dp_private_data = session.evaluate(\n",
    "    count_sectors_firm_type_query,\n",
    "    privacy_budget=PureDPBudget(epsilon), \n",
    ")\n",
    "\n",
    "# show visualisation\n",
    "visualise(dp_private_data, public_data, [\"firm_type\"], \"count\", \"Count\", \"Number of R&D firms by Enterprise Type (epsilon = {})\".format(epsilon), None, None).show()\n",
    "print(f\"sensitivity: {session._stability['sectors_analysis']}\")\n",
    "\n",
    "# print_laplace_confidence_interval(session._stability[\"sectors_analysis\"], epsilon)"
   ]
  },
  {
   "cell_type": "markdown",
   "id": "24c9cebe-279b-4811-a7cb-950b1aefe257",
   "metadata": {},
   "source": [
    "### 2. BERD by Enterprise Type (group by >> summation)\n",
    "\n",
    "##### Group by: Sectors -- (SSIC), Enterprise Type (\"SSE\", \"MNC\", \"LLC\") -- (firm_type)\n",
    "##### Summation: BERD -- (exp_total_rnd) "
   ]
  },
  {
   "cell_type": "code",
   "execution_count": 42,
   "id": "ecd42367-cc8f-4c5c-9843-dbd50cbbbc2f",
   "metadata": {},
   "outputs": [
    {
     "name": "stderr",
     "output_type": "stream",
     "text": [
      "                                                                                \r"
     ]
    },
    {
     "name": "stdout",
     "output_type": "stream",
     "text": [
      "  SSIC firm_type  true_sum    noisy_sum      error\n",
      "0   S1       SME  6843.318  6830.889167 -12.428833\n",
      "1   S1       MNC  3450.727  3438.298167 -12.428833\n",
      "2   S2       LLC  3303.088  3290.659167 -12.428833\n",
      "3   S2       MNC  5174.176  5161.747167 -12.428833\n",
      "4   S2       SME  5935.303  5908.201167 -27.101833\n",
      "5   S3       SME  5931.933  5919.504167 -12.428833\n",
      "6   S3       LLC  4365.057  4352.628167 -12.428833\n"
     ]
    },
    {
     "data": {
      "image/png": "[encoded data removed]",
      "text/plain": [
       "<Figure size 576x360 with 1 Axes>"
      ]
     },
     "metadata": {
      "needs_background": "light"
     },
     "output_type": "display_data"
    },
    {
     "name": "stdout",
     "output_type": "stream",
     "text": [
      "sensitivity: 1\n"
     ]
    }
   ],
   "source": [
    "# Laplacian noise\n",
    "epsilon = 8\n",
    "CLAMPING_BOUNDS = [0, 3500]\n",
    "\n",
    "# group by query \n",
    "berd_sectors_firm_type_query = (\n",
    "    QueryBuilder(\"sectors_analysis\")\n",
    "    .groupby(sectors_firm_type_keys)\n",
    "    .sum(\"exp_total_rnd\", low=CLAMPING_BOUNDS[0], high=CLAMPING_BOUNDS[1]) \n",
    ")\n",
    "\n",
    "# privacy budget for the query\n",
    "dp_private_data = session.evaluate(\n",
    "    berd_sectors_firm_type_query,\n",
    "    privacy_budget=PureDPBudget(epsilon), \n",
    ")\n",
    "\n",
    "visualise(dp_private_data, public_data, [\"firm_type\"], \"sum\", \"Sum\", \"BERD by Enterprise Type (epsilon = {})\".format(epsilon), \"exp_total_rnd\", None).show()\n",
    "print(f\"sensitivity: {session._stability['sectors_analysis']}\")\n",
    "\n",
    "# print_laplace_confidence_interval(session._stability[\"sectors_analysis\"]*2*4000, epsilon)"
   ]
  },
  {
   "cell_type": "markdown",
   "id": "ecc16ba2-3a70-4bb6-b60f-b449d82b80f4",
   "metadata": {},
   "source": [
    "### 3. Number of Private R&D Centres by Enterprise Type (filter >> group by >> count)\n",
    "\n",
    "##### **Filter**: Public (\"Gov\", \"IHL\", \"Public RI\") or Private -- (ownership_type) \n",
    "##### **Group by**: Sectors -- (SSIC), Enterprise Type (\"SSE\", \"MNC\", \"LLC\") -- (firm_type)\n",
    "##### **Summation**: BERD -- (exp_total_rnd) "
   ]
  },
  {
   "cell_type": "code",
   "execution_count": 43,
   "id": "24f38ad5-85f9-4824-874b-d11916f126ff",
   "metadata": {},
   "outputs": [],
   "source": [
    "sectors_firm_ownership_type_keys = KeySet.from_dict({\n",
    "    \"SSIC\": sectors_list, \n",
    "    \"firm_type\": FIRM_TYPES,\n",
    "    \"ownership_type\": OWNERSHIP_TYPES\n",
    "})\n",
    "\n",
    "sectors_firm_ownership_type_keys_filtered = sectors_firm_ownership_type_keys.filter(\"\"\"\n",
    "    ownership_type == 'Private'\n",
    "\"\"\")"
   ]
  },
  {
   "cell_type": "code",
   "execution_count": 51,
   "id": "94e8dee1-bd04-433e-9e07-efe6d94557cb",
   "metadata": {},
   "outputs": [
    {
     "name": "stdout",
     "output_type": "stream",
     "text": [
      "  SSIC firm_type ownership_type  true_count  noisy_count  error\n",
      "0   S1       MNC        Private           2            2      0\n",
      "1   S1       SME        Private           1            1      0\n",
      "2   S2       MNC        Private           1            1      0\n",
      "3   S2       SME        Private           1            1      0\n",
      "4   S3       SME        Private           1            1      0\n"
     ]
    },
    {
     "data": {
      "image/png": "[encoded data removed]",
      "text/plain": [
       "<Figure size 576x360 with 1 Axes>"
      ]
     },
     "metadata": {
      "needs_background": "light"
     },
     "output_type": "display_data"
    },
    {
     "name": "stdout",
     "output_type": "stream",
     "text": [
      "sensitivity: 1\n"
     ]
    }
   ],
   "source": [
    "# Laplacian noise\n",
    "epsilon = 5 \n",
    "\n",
    "# group by query \n",
    "count_sectors_firm_ownership_type_query = (\n",
    "    QueryBuilder(\"sectors_analysis\")\n",
    "    .groupby(sectors_firm_ownership_type_keys_filtered)\n",
    "    .count() \n",
    ")\n",
    "\n",
    "# privacy budget for the query\n",
    "dp_private_data = session.evaluate(\n",
    "    count_sectors_firm_ownership_type_query,\n",
    "    privacy_budget=PureDPBudget(epsilon), \n",
    ")\n",
    "\n",
    "# show visualisations\n",
    "visualise(dp_private_data, public_data, [\"firm_type\", \"ownership_type\"], \"count\", \"Count\", \"Number of Private R&D Centres by Enterprise Type (epsilon = {})\"\n",
    "          .format(epsilon), None, OWNERSHIP_TYPES[-1]).show()\n",
    "print(f\"sensitivity: {session._stability['sectors_analysis']}\")"
   ]
  },
  {
   "cell_type": "markdown",
   "id": "2c7cfbc7-85e2-4b60-b11a-7f5ce2e23a82",
   "metadata": {},
   "source": [
    "### 4. Number of Industry Researchers by Nationality (filter >> group by >> summation)\n",
    "\n",
    "##### **Filter**: Public (\"Gov\", \"IHL\", \"Public RI\") or Private -- (ownership_type) \n",
    "##### **Group by**: Sectors -- (SSIC)\n",
    "##### **Summation**: Nationality (\"SC\", \"PR\", \"FC\") -- (no_sc_researchers, no_pr_researchers, no_fc_researchers) \n",
    "\n",
    "#### 4.1.  Nationality type **SC**"
   ]
  },
  {
   "cell_type": "code",
   "execution_count": 45,
   "id": "430973c7-be76-45c7-8246-9c743ea5b306",
   "metadata": {},
   "outputs": [
    {
     "name": "stderr",
     "output_type": "stream",
     "text": [
      "                                                                                \r"
     ]
    },
    {
     "name": "stdout",
     "output_type": "stream",
     "text": [
      "  SSIC ownership_type  true_sum  noisy_sum  error\n",
      "0   S1        Private       718        707    -11\n",
      "1   S2        Private       376        427     51\n",
      "2   S3        Private       371        389     18\n"
     ]
    },
    {
     "data": {
      "image/png": "[encoded data removed]",
      "text/plain": [
       "<Figure size 576x360 with 1 Axes>"
      ]
     },
     "metadata": {
      "needs_background": "light"
     },
     "output_type": "display_data"
    }
   ],
   "source": [
    "sectors_ownership_type_keys = KeySet.from_dict({\n",
    "    \"SSIC\": sectors_list, \n",
    "    \"ownership_type\": OWNERSHIP_TYPES\n",
    "})\n",
    "\n",
    "sectors_ownership_type_keys_filtered = sectors_ownership_type_keys.filter(\"\"\"\n",
    "    ownership_type == 'Private'\n",
    "\"\"\")\n",
    "\n",
    "# Laplacian noise\n",
    "epsilon = 10 \n",
    "CLAMPING_BOUNDS = [0, 900]\n",
    "\n",
    "# group by query \n",
    "sc_researchers_sectors_ownership_type_query = (\n",
    "    QueryBuilder(\"sectors_analysis\")\n",
    "    .groupby(sectors_ownership_type_keys_filtered)\n",
    "    .sum(\"no_sc_researchers\", low=CLAMPING_BOUNDS[0], high=CLAMPING_BOUNDS[1]) \n",
    ")\n",
    "\n",
    "# privacy budget for the query\n",
    "dp_private_data = session.evaluate(\n",
    "    sc_researchers_sectors_ownership_type_query,\n",
    "    privacy_budget=PureDPBudget(epsilon), \n",
    ")\n",
    "\n",
    "visualise(dp_private_data, public_data, [\"ownership_type\"], \"sum\", \"Sum\", \n",
    "          \"Number of Industry Researchers by Nationality SC type (epsilon = {})\".format(epsilon), \"no_sc_researchers\", \"ownership_type\").show()"
   ]
  },
  {
   "cell_type": "markdown",
   "id": "c6ab6f3e-1e40-4b1d-bff1-459cf438694f",
   "metadata": {},
   "source": [
    "#### 4.2.  Nationality type **PR**"
   ]
  },
  {
   "cell_type": "code",
   "execution_count": 46,
   "id": "f6b1fd2b-ea72-4f80-9fc7-d8f46657d88f",
   "metadata": {},
   "outputs": [
    {
     "name": "stderr",
     "output_type": "stream",
     "text": [
      "                                                                                \r"
     ]
    },
    {
     "name": "stdout",
     "output_type": "stream",
     "text": [
      "  SSIC ownership_type  true_sum  noisy_sum  error\n",
      "0   S1        Private       970        986     16\n",
      "1   S2        Private       918        926      8\n",
      "2   S3        Private       408        413      5\n"
     ]
    },
    {
     "data": {
      "image/png": "[encoded data removed]",
      "text/plain": [
       "<Figure size 576x360 with 1 Axes>"
      ]
     },
     "metadata": {
      "needs_background": "light"
     },
     "output_type": "display_data"
    }
   ],
   "source": [
    "# Laplacian noise\n",
    "epsilon = 10 \n",
    "CLAMPING_BOUNDS = [0, 1000]\n",
    "\n",
    "# group by query \n",
    "pr_researchers_sectors_ownership_type_query = (\n",
    "    QueryBuilder(\"sectors_analysis\")\n",
    "    .groupby(sectors_ownership_type_keys_filtered)\n",
    "    .sum(\"no_pr_researchers\", low=CLAMPING_BOUNDS[0], high=CLAMPING_BOUNDS[1]) \n",
    ")\n",
    "\n",
    "# privacy budget for the query\n",
    "dp_private_data = session.evaluate(\n",
    "    pr_researchers_sectors_ownership_type_query,\n",
    "    privacy_budget=PureDPBudget(epsilon), \n",
    ")\n",
    "\n",
    "visualise(dp_private_data, public_data, [\"ownership_type\"], \"sum\", \"Sum\", \n",
    "          \"Number of Industry Researchers by Nationality PR type (epsilon = {})\".format(epsilon), \"no_pr_researchers\", \"ownership_type\").show()"
   ]
  },
  {
   "cell_type": "markdown",
   "id": "acdf952e-b43e-4f0c-add9-f2290cfe3167",
   "metadata": {},
   "source": [
    "#### 4.3.  Nationality type **FC**"
   ]
  },
  {
   "cell_type": "code",
   "execution_count": 47,
   "id": "e507e2f3-9558-4a3e-8933-b487191fd94d",
   "metadata": {},
   "outputs": [
    {
     "name": "stderr",
     "output_type": "stream",
     "text": [
      "                                                                                \r"
     ]
    },
    {
     "name": "stdout",
     "output_type": "stream",
     "text": [
      "  SSIC ownership_type  true_sum  noisy_sum  error\n",
      "0   S1        Private       879        853    -26\n",
      "1   S2        Private       560        576     16\n",
      "2   S3        Private       296        352     56\n"
     ]
    },
    {
     "data": {
      "image/png": "[encoded data removed]",
      "text/plain": [
       "<Figure size 576x360 with 1 Axes>"
      ]
     },
     "metadata": {
      "needs_background": "light"
     },
     "output_type": "display_data"
    }
   ],
   "source": [
    "# Laplacian noise\n",
    "epsilon = 10 \n",
    "CLAMPING_BOUNDS = [0, 600]\n",
    "\n",
    "# group by query \n",
    "fc_researchers_sectors_ownership_type_query = (\n",
    "    QueryBuilder(\"sectors_analysis\")\n",
    "    .groupby(sectors_ownership_type_keys_filtered)\n",
    "    .sum(\"no_fc_researchers\", low=CLAMPING_BOUNDS[0], high=CLAMPING_BOUNDS[1]) \n",
    ")\n",
    "\n",
    "# privacy budget for the query\n",
    "dp_private_data = session.evaluate(\n",
    "    fc_researchers_sectors_ownership_type_query,\n",
    "    privacy_budget=PureDPBudget(epsilon), \n",
    ")\n",
    "\n",
    "visualise(dp_private_data, public_data, [\"ownership_type\"], \"sum\", \"Sum\", \n",
    "          \"Number of Industry Researchers by Nationality FC type (epsilon = {})\".format(epsilon), \"no_fc_researchers\", \"ownership_type\").show()"
   ]
  },
  {
   "cell_type": "code",
   "execution_count": null,
   "id": "08a24938-4e47-4d87-b8e6-34de10e48152",
   "metadata": {},
   "outputs": [],
   "source": [
    "[1, 1, 0]"
   ]
  }
 ],
 "metadata": {
  "kernelspec": {
   "display_name": "Python 3 (ipykernel)",
   "language": "python",
   "name": "python3"
  },
  "language_info": {
   "codemirror_mode": {
    "name": "ipython",
    "version": 3
   },
   "file_extension": ".py",
   "mimetype": "text/x-python",
   "name": "python",
   "nbconvert_exporter": "python",
   "pygments_lexer": "ipython3",
   "version": "3.8.11"
  }
 },
 "nbformat": 4,
 "nbformat_minor": 5
}
