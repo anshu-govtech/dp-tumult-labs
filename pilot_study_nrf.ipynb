{
 "cells": [
  {
   "cell_type": "code",
   "execution_count": 2,
   "id": "30fc3f3e-a9f1-4014-8256-1d50cf566f95",
   "metadata": {},
   "outputs": [],
   "source": [
    "import os\n",
    "import requests\n",
    "import pandas as pd\n",
    "from pyspark.sql import SparkSession\n",
    "from tmlt.analytics.privacy_budget import PureDPBudget, RhoZCDPBudget\n",
    "from tmlt.analytics.query_builder import QueryBuilder\n",
    "from tmlt.analytics.session import Session\n",
    "from pyspark.sql.functions import desc, asc"
   ]
  },
  {
   "cell_type": "code",
   "execution_count": 3,
   "id": "a198c923-ee01-4a3b-b5b5-7cdb076b182b",
   "metadata": {},
   "outputs": [],
   "source": [
    "from tmlt.core.transformations.spark_transformations.filter import Filter\n",
    "from tmlt.core.transformations.spark_transformations.agg import Count\n",
    "from tmlt.core.domains.spark_domains import convert_spark_schema, SparkDataFrameDomain\n",
    "from tmlt.core.metrics import SymmetricDifference\n",
    "from tmlt.core.measurements.noise_mechanisms import AddGeometricNoise\n",
    "from tmlt.core.utils.misc import print_sdf"
   ]
  },
  {
   "cell_type": "code",
   "execution_count": 4,
   "id": "45479713-5ce5-4673-a52a-d86c957229ca",
   "metadata": {},
   "outputs": [],
   "source": [
    "import warnings\n",
    "warnings.filterwarnings('ignore')"
   ]
  },
  {
   "cell_type": "code",
   "execution_count": 5,
   "id": "bc005cf3-ad11-4bc9-a353-b84e58b76e0c",
   "metadata": {},
   "outputs": [],
   "source": [
    "from tmlt.analytics.keyset import KeySet"
   ]
  },
  {
   "cell_type": "code",
   "execution_count": 6,
   "id": "d0d9415d-41f1-4d95-a6a1-855f535a2b7c",
   "metadata": {},
   "outputs": [],
   "source": [
    "import numpy as np\n",
    "import seaborn as sns\n",
    "import pandas as pd\n",
    "import matplotlib.pyplot as plt"
   ]
  },
  {
   "cell_type": "code",
   "execution_count": 7,
   "id": "6cff9a17-8b81-41b7-a9ca-3b923ea4f132",
   "metadata": {},
   "outputs": [
    {
     "name": "stderr",
     "output_type": "stream",
     "text": [
      "22/07/13 11:02:41 WARN NativeCodeLoader: Unable to load native-hadoop library for your platform... using builtin-java classes where applicable\n",
      "Using Spark's default log4j profile: org/apache/spark/log4j-defaults.properties\n",
      "Setting default log level to \"WARN\".\n",
      "To adjust logging level use sc.setLogLevel(newLevel). For SparkR, use setLogLevel(newLevel).\n"
     ]
    }
   ],
   "source": [
    "spark = SparkSession.builder.getOrCreate()"
   ]
  },
  {
   "cell_type": "code",
   "execution_count": 26,
   "id": "0b8450f5-34d9-4791-b323-aefcd18ba6fb",
   "metadata": {},
   "outputs": [],
   "source": [
    "# \"\"\"\n",
    "# |-----|-----|-------------|------------------------|----------------------------|----------------------------|\n",
    "# |SSIC | UEN | staff_count | innovation_expenditure | intramural_r&d_expenditure | extramural_r&d_expenditure |\n",
    "# |-------------------------------------------------------------------------------------------------------------\n",
    "# | S0  |  1  |   234       |    23000.508          |       3050.231               |   56000.000              |\n",
    "# | S1  |  2  |   234       |    23000.508          |       3050.231                |   56000.000              |\n",
    "# | S0  |  3  |   234       |    23000.508          |       250.231                |   56000.000              |\n",
    "# | S2  |  4  |   234       |    23000.508          |       650.231                |   56000.000              |\n",
    "# | S3  |  5  |   234       |    23000.508          |       3050.231                |   56000.000              |\n",
    "# | S2  |  6  |   234       |    23000.508          |       3050.231                |   56000.000              |\n",
    "# |-------------------------------------------------------------------------------------------------------------\n",
    "\n",
    "# Types:\n",
    "# SSIC: string \n",
    "# UEN: integer (unique values generated using counter)\n",
    "# innovation_expenditure: float (default to 3 decimal places)\n",
    "# intramural_r&d_expenditure: float (default to 3 decimal places)\n",
    "# extramural_r&d_expenditure: float (default to 3 decimal places)\n",
    "# \"\"\"\n",
    "\n",
    "# def create_simulated_data(no_of_records=40, no_of_sectors=5, decimal_points=3):\n",
    "#     simulated_data = pd.DataFrame()     \n",
    "    \n",
    "#     # setting sectors name as S1 ..... S[no_of_sectors]\n",
    "#     SSIC = [\"S\" + str(sector_no) for sector_no in range(1, no_of_sectors + 1)]\n",
    "#     simulated_data[\"SSIC\"] = np.random.choice(SSIC, size=no_of_records) \n",
    "    \n",
    "#     # no of records == no of uniques UENs(firms)\n",
    "#     simulated_data[\"UEN\"] = list(range(1, no_of_records + 1))                                                                                                                                         \n",
    "    \n",
    "#     # using gamma distribution \n",
    "#     # https://en.wikipedia.org/wiki/Gamma_distribution\n",
    "#     simulated_data[\"staff_count\"] = np.random.gamma(2, 150, size=no_of_records).astype(int)\n",
    "    \n",
    "#     simulated_data[\"innovation_expenditure\"] = np.round(np.random.gamma(10, 300, size=no_of_records), decimal_points) \n",
    "#     simulated_data[\"intramural_r&d_expenditure\"] = np.round(np.random.gamma(10, 300, size=no_of_records), decimal_points) \n",
    "#     simulated_data[\"extramural_r&d_expenditure\"] = np.round(np.random.gamma(10, 300, size=no_of_records), decimal_points) \n",
    "    \n",
    "#     return simulated_data\n",
    "\n",
    "\n",
    "# def save_data(data, filename=\"simulated_data.csv\"):\n",
    "#     data.to_csv(filename, mode='w', index=False)\n"
   ]
  },
  {
   "cell_type": "code",
   "execution_count": 111,
   "id": "5f03de65-d04d-4d8b-a438-1f73cdd3a65a",
   "metadata": {},
   "outputs": [],
   "source": [
    "\"\"\"\n",
    "|-----|-----|-------------|------------------------|----------------------------|----------------------------|\n",
    "|SSIC | UEN | staff_count | innovation_expenditure | intramural_r&d_expenditure | extramural_r&d_expenditure |\n",
    "|-------------------------------------------------------------------------------------------------------------\n",
    "| S0  |  1  |   234       |    23000.508          |       3050.231               |   56000.000              |\n",
    "| S1  |  2  |   234       |    23000.508          |       3050.231                |   56000.000              |\n",
    "| S0  |  3  |   234       |    23000.508          |       250.231                |   56000.000              |\n",
    "| S2  |  4  |   234       |    23000.508          |       650.231                |   56000.000              |\n",
    "| S3  |  5  |   234       |    23000.508          |       3050.231                |   56000.000              |\n",
    "| S2  |  6  |   234       |    23000.508          |       3050.231                |   56000.000              |\n",
    "|-------------------------------------------------------------------------------------------------------------\n",
    "\n",
    "Types:\n",
    "SSIC: string \n",
    "UEN: integer (unique values generated using counter)\n",
    "innovation_expenditure: float (default to 3 decimal places)\n",
    "intramural_r&d_expenditure: float (default to 3 decimal places)\n",
    "extramural_r&d_expenditure: float (default to 3 decimal places)\n",
    "\"\"\"\n",
    "\n",
    "# excluding \"Foreign Firm\" for now \n",
    "FIRM_TYPES = [\"LLC\", \"MNC\", \"SME\"] \n",
    "\n",
    "#Government\", \"Private Sector Company\", \"Institute of Higher Learning\", \"Public Research Institute\"\n",
    "OWNERSHIP_TYPES = [\"Gov\", \"IHL\", \"Public RI\", \"Private\"]\n",
    "\n",
    "FIRM_PUBLIC_PRIVATE = {\n",
    "    \"public\": OWNERSHIP_TYPES[:3],\n",
    "    \"private\": OWNERSHIP_TYPES[-1]\n",
    "}\n",
    "\n",
    "NATIONALITY_TYPES = [\"SC\", \"PR\", \"FC\"]\n",
    "\n",
    "QUALIFICATION_TYPES = [\"PhD\", \"Masters\", \"Bachelors\", \"Non-degree\", \"Post-grad\"]\n",
    "\n",
    "\n",
    "def create_simulated_data(no_of_records=10000, no_of_sectors=3, decimal_points=3):\n",
    "    simulated_data = pd.DataFrame()     \n",
    "    \n",
    "    # setting sectors name as S1 ..... S[no_of_sectors]\n",
    "    SSIC = [\"S\" + str(sector_no) for sector_no in range(1, no_of_sectors + 1)]\n",
    "    simulated_data[\"SSIC\"] = np.random.choice(SSIC, size=no_of_records) \n",
    "    \n",
    "    # no of records == no of uniques UENs(firms)\n",
    "    simulated_data[\"UEN\"] = list(range(1, no_of_records + 1))                                                                                                                                         \n",
    "    \n",
    "    # firm type \n",
    "    simulated_data[\"firm_type\"] = np.random.choice(FIRM_TYPES, size=no_of_records) \n",
    "    \n",
    "    #ownership type\n",
    "    simulated_data[\"ownership_type\"] = np.random.choice(OWNERSHIP_TYPES, size=no_of_records)\n",
    "    \n",
    "    # berd\n",
    "    simulated_data[\"exp_total_rnd\"] = np.round(np.random.gamma(10, 300, size=no_of_records), decimal_points) \n",
    "    \n",
    "    # using gamma distribution \n",
    "    # https://en.wikipedia.org/wiki/Gamma_distribution\n",
    "    simulated_data[\"no_sc_researchers\"] = np.random.gamma(2, 150, size=no_of_records).astype(int)\n",
    "    simulated_data[\"no_pr_researchers\"] = np.random.gamma(2, 150, size=no_of_records).astype(int)\n",
    "    simulated_data[\"no_fc_researchers\"] = np.random.gamma(2, 150, size=no_of_records).astype(int)\n",
    "    \n",
    "    simulated_data[\"no_phd_researchers\"] = np.random.gamma(2, 150, size=no_of_records).astype(int)\n",
    "    simulated_data[\"no_masters_researchers\"] = np.random.gamma(2, 150, size=no_of_records).astype(int)\n",
    "    simulated_data[\"no_bachelors_researchers\"] = np.random.gamma(2, 150, size=no_of_records).astype(int)\n",
    "    simulated_data[\"no_nondegree_researchers\"] = np.random.gamma(2, 150, size=no_of_records).astype(int)\n",
    "    simulated_data[\"no_postgrad_researchers\"] = np.random.gamma(2, 150, size=no_of_records).astype(int)\n",
    "     \n",
    "    return simulated_data\n",
    "\n",
    "\n",
    "def save_data(data, filename=\"simulated_data.csv\"):\n",
    "    data.to_csv(filename, mode='w', index=False)"
   ]
  },
  {
   "cell_type": "code",
   "execution_count": 69,
   "id": "f1db4c44-49d9-4da1-b72d-f9f3e04818e8",
   "metadata": {},
   "outputs": [],
   "source": [
    "simulated_data = create_simulated_data()\n",
    "save_data(simulated_data)"
   ]
  },
  {
   "cell_type": "code",
   "execution_count": 70,
   "id": "a9b48e9b-f8d1-453e-bdc9-ad7765223f4a",
   "metadata": {},
   "outputs": [],
   "source": [
    "spark = (\n",
    "    SparkSession.builder\n",
    "    .config(\"spark.driver.extraJavaOptions\", \"-Dio.netty.tryReflectionSetAccessible=true\")\n",
    "    .config(\"spark.executor.extraJavaOptions\", \"-Dio.netty.tryReflectionSetAccessible=true\")\n",
    "    .getOrCreate()\n",
    ")"
   ]
  },
  {
   "cell_type": "code",
   "execution_count": 71,
   "id": "031c8691-305e-44e0-8b40-3bde29601a47",
   "metadata": {},
   "outputs": [
    {
     "data": {
      "text/plain": [
       "10000"
      ]
     },
     "execution_count": 71,
     "metadata": {},
     "output_type": "execute_result"
    }
   ],
   "source": [
    "public_data = spark.read.csv(\"simulated_data.csv\", header=True, inferSchema=True)\n",
    "public_data.count()"
   ]
  },
  {
   "cell_type": "code",
   "execution_count": 105,
   "id": "942d70ae-e75a-43a2-84c9-0d5c49a12ccb",
   "metadata": {},
   "outputs": [],
   "source": [
    "# check the distribution\n",
    "# public_data.toPandas().no_postgrad_researchers.hist();\n",
    "# public_data.toPandas().exp_total_rnd.hist();\n",
    "# public_data.toPandas().no_masters_researchers.hist();"
   ]
  },
  {
   "cell_type": "code",
   "execution_count": 72,
   "id": "b1ee6348-f037-46d4-8743-bc8bca956c53",
   "metadata": {},
   "outputs": [
    {
     "name": "stdout",
     "output_type": "stream",
     "text": [
      "+----+---+---------+--------------+-------------+-----------------+-----------------+-----------------+------------------+----------------------+------------------------+------------------------+-----------------------+\n",
      "|SSIC|UEN|firm_type|ownership_type|exp_total_rnd|no_sc_researchers|no_pr_researchers|no_fc_researchers|no_phd_researchers|no_masters_researchers|no_bachelors_researchers|no_nondegree_researchers|no_postgrad_researchers|\n",
      "+----+---+---------+--------------+-------------+-----------------+-----------------+-----------------+------------------+----------------------+------------------------+------------------------+-----------------------+\n",
      "|  S3|  1|      MNC|       Private|     2553.497|              401|              207|              682|               349|                    99|                     630|                    1138|                    244|\n",
      "|  S3|  2|      LLC|           IHL|     5315.767|              520|              274|               49|               103|                   149|                     105|                     671|                    372|\n",
      "|  S3|  3|      MNC|           Gov|      990.704|              271|               31|              420|                71|                   189|                     249|                     741|                    364|\n",
      "|  S2|  4|      LLC|           Gov|     3953.556|              170|              837|              140|               175|                   158|                     285|                     141|                    668|\n",
      "|  S1|  5|      MNC|       Private|     1879.721|              157|              620|              177|                25|                   137|                     106|                     252|                     86|\n",
      "|  S2|  6|      SME|           IHL|     1650.443|              451|              406|              159|               221|                   117|                    1046|                      98|                    267|\n",
      "|  S2|  7|      LLC|           Gov|     4706.802|              224|               64|              123|               269|                   338|                     185|                     192|                     71|\n",
      "|  S1|  8|      MNC|           IHL|     2593.245|              960|              288|              142|               448|                   191|                     416|                     391|                    335|\n",
      "|  S2|  9|      SME|     Public RI|     4447.566|              312|              161|              367|               271|                   240|                     133|                     438|                     95|\n",
      "|  S2| 10|      MNC|     Public RI|      3351.31|              320|              444|              288|               310|                   207|                      23|                     236|                    477|\n",
      "|  S2| 11|      LLC|     Public RI|     2048.118|              160|              103|              118|               159|                   770|                     147|                     299|                    173|\n",
      "|  S2| 12|      MNC|           Gov|     3101.362|              363|              438|              513|               250|                   123|                     316|                     284|                    338|\n",
      "|  S3| 13|      SME|           Gov|     3663.656|              169|              372|              267|               383|                   302|                      52|                     248|                     65|\n",
      "|  S2| 14|      LLC|     Public RI|     1866.963|              648|              282|              197|               158|                   383|                     323|                     188|                    173|\n",
      "|  S2| 15|      MNC|           IHL|     2200.142|              566|              347|              224|               542|                   332|                     378|                      67|                     59|\n",
      "|  S3| 16|      LLC|     Public RI|      1105.27|              402|              376|              259|               300|                   341|                     295|                     572|                     80|\n",
      "|  S1| 17|      SME|           IHL|     2850.928|              141|              139|              319|               443|                   197|                      58|                     148|                    197|\n",
      "|  S1| 18|      MNC|       Private|     3773.677|              172|              374|              738|               600|                   649|                     416|                      28|                     88|\n",
      "|  S1| 19|      SME|           IHL|     3909.026|              418|              183|              100|               692|                   330|                     372|                     155|                    245|\n",
      "|  S3| 20|      LLC|       Private|     3441.034|              164|              256|              197|               308|                   595|                     296|                     141|                    125|\n",
      "+----+---+---------+--------------+-------------+-----------------+-----------------+-----------------+------------------+----------------------+------------------------+------------------------+-----------------------+\n",
      "only showing top 20 rows\n",
      "\n"
     ]
    }
   ],
   "source": [
    "public_data.show()"
   ]
  },
  {
   "cell_type": "code",
   "execution_count": 90,
   "id": "1ec8c466-1d0d-4854-b37d-74ee5f342a64",
   "metadata": {},
   "outputs": [],
   "source": [
    "from scipy.stats import laplace\n",
    "\n",
    "def print_laplace_confidence_interval(sensitivity, epsilon, confidence_score=0.99):\n",
    "    # formula is noise_scale = stability/epsilon\n",
    "    noise_scale_exact = sensitivity/epsilon\n",
    "    noise_scale_float = float(noise_scale_exact)\n",
    "\n",
    "    # https://en.wikipedia.org/wiki/Laplace_distribution\n",
    "    noise_rvs = laplace(loc=0, scale=noise_scale_float) # b value for Laplace distribution\n",
    "\n",
    "    # print(noise_rvs)\n",
    "    # print(f\"sensitivity: {sensitivity}\")\n",
    "    # # print(sum_privacy_budget)\n",
    "    print(f\"noise scale: {noise_scale_float}\")\n",
    "    print(f\"variance: {noise_rvs.var()}\")\n",
    "\n",
    "    #interval(alpha, loc=0, scale=1)\n",
    "    print(f\"confidence interval: {noise_rvs.interval(confidence_score)}\") \n",
    "    "
   ]
  },
  {
   "cell_type": "code",
   "execution_count": 73,
   "id": "d49b5445-ed6d-4b7e-b4a9-7dcf8b20224a",
   "metadata": {},
   "outputs": [],
   "source": [
    "def visualise(perturbed_df, true_df, attributes, query_type, y_label=\"\", title=\"\", sum_over=None, filter_by=None): \n",
    "    \"\"\"\n",
    "        attributes: \n",
    "        query_type: {count, sum}\n",
    "        y_label:\n",
    "        title: \n",
    "        sum_over: for summation query \n",
    "        filter_by: \n",
    "    \"\"\"\n",
    "\n",
    "    if query_type == \"count\":\n",
    "        pd_perturbed = perturbed_df.toPandas().rename(columns={query_type: 'noisy_' + query_type}).sort_values(\"SSIC\")\n",
    "        \n",
    "        pd_true = true_df\n",
    "        if filter_by == OWNERSHIP_TYPES[-1]:\n",
    "            pd_true = pd_true.filter(true_df.ownership_type == OWNERSHIP_TYPES[-1])\n",
    "        \n",
    "        pd_true = pd_true.groupBy([\"SSIC\"] + attributes).count().toPandas().rename(columns={'count': 'true_' + query_type}).sort_values(\"SSIC\")  \n",
    "            \n",
    "    else:\n",
    "        name = '{}_sum'.format(sum_over)\n",
    "        pd_perturbed = perturbed_df.toPandas().rename(columns={name: 'noisy_' + query_type}).sort_values(\"SSIC\")\n",
    "        name = 'sum({})'.format(sum_over)\n",
    "        pd_true = true_df.groupBy(['SSIC'] + attributes).sum(sum_over).toPandas().rename(columns={name: 'true_' + query_type}).sort_values(\"SSIC\") #.sort(asc(auto_org_name))\n",
    "    \n",
    "    true_perturbed = pd.merge(pd_true, pd_perturbed, on=['SSIC'] + attributes, how='inner')\n",
    "    \n",
    "    if query_type == \"count\": \n",
    "        true_perturbed['error'] = true_perturbed['noisy_count'] - true_perturbed['true_count']\n",
    "    else:\n",
    "        true_perturbed['error'] = true_perturbed['noisy_sum'] - true_perturbed['true_sum']\n",
    "    \n",
    "    x_labels = [\"{}-{}\".format(ssic, attr_val) for ssic, attr_val, in zip(true_perturbed['SSIC'], true_perturbed[attributes[0]])]\n",
    "    \n",
    "    print(true_perturbed.sort_values(\"SSIC\"))\n",
    "    # error = perc_error(results['True'], results['Geom-DP-'+str(epsilon)])\n",
    "    \n",
    "    ax = true_perturbed.plot.bar(rot=45, figsize=(8, 5), width=0.8, fontsize=12, colormap = 'Accent')\n",
    "    plt.title(title, fontsize=16)\n",
    "    plt.xticks(np.arange(len(true_perturbed)), x_labels, rotation=45)    \n",
    "    plt.grid(axis='y', alpha=0.5)\n",
    "    plt.ylabel(y_label, fontsize = 14)\n",
    "    # plt.ylim(-50)\n",
    "    # plt.legend(fontsize = 12, labels=labels)\n",
    "    return plt "
   ]
  },
  {
   "cell_type": "markdown",
   "id": "06774987-a91a-4197-a980-9c3503047402",
   "metadata": {},
   "source": [
    "## Querying -- Sectoral Analysis"
   ]
  },
  {
   "cell_type": "code",
   "execution_count": 74,
   "id": "0e5f126c-d634-4da4-b284-e0576d5b6106",
   "metadata": {},
   "outputs": [
    {
     "name": "stdout",
     "output_type": "stream",
     "text": [
      "Number of firms in each sector\n",
      "+----+-----+\n",
      "|SSIC|count|\n",
      "+----+-----+\n",
      "|  S3| 3334|\n",
      "|  S2| 3413|\n",
      "|  S1| 3253|\n",
      "+----+-----+\n",
      "\n"
     ]
    }
   ],
   "source": [
    "print(\"Number of firms in each sector\")\n",
    "public_data.groupby(public_data.SSIC).count().show()"
   ]
  },
  {
   "cell_type": "code",
   "execution_count": 75,
   "id": "180ca6b8-80ad-4b59-a58e-4f896d392fca",
   "metadata": {},
   "outputs": [],
   "source": [
    "session = Session.from_dataframe(\n",
    "    privacy_budget=PureDPBudget(float('inf')),\n",
    "    source_id=\"sectors_analysis\",\n",
    "    dataframe=public_data\n",
    ")"
   ]
  },
  {
   "cell_type": "markdown",
   "id": "6f15b0c0-4e42-4b4a-8ce9-158b020d0f2a",
   "metadata": {},
   "source": [
    "### 1. Number of R&D firms by Enterprise Type (group by >> count)\n",
    "\n",
    "##### Group by: Sectors -- (SSIC), Enterprise Type (\"SSE\", \"MNC\", \"LLC\") -- (firm_type)"
   ]
  },
  {
   "cell_type": "code",
   "execution_count": 76,
   "id": "6940bfdd-2eb2-477b-9391-4a93ae9620bd",
   "metadata": {},
   "outputs": [],
   "source": [
    "sectors_list = list(set(list(public_data.select('SSIC').toPandas()['SSIC'])))\n",
    "\n",
    "# Partitioning by sector and enterprise/firm type\n",
    "sectors_firm_type_keys = KeySet.from_dict({\n",
    "    \"SSIC\": sectors_list, \n",
    "    \"firm_type\": FIRM_TYPES\n",
    "})"
   ]
  },
  {
   "cell_type": "code",
   "execution_count": 85,
   "id": "efa389b1-7615-40be-aa3b-9df09f993712",
   "metadata": {},
   "outputs": [
    {
     "name": "stderr",
     "output_type": "stream",
     "text": [
      "                                                                                \r"
     ]
    },
    {
     "name": "stdout",
     "output_type": "stream",
     "text": [
      "  SSIC firm_type  true_count  noisy_count  error\n",
      "0   S1       SME        1061         1065      4\n",
      "1   S1       MNC        1104         1105      1\n",
      "2   S1       LLC        1088         1094      6\n",
      "3   S2       LLC        1157         1160      3\n",
      "4   S2       MNC        1148         1146     -2\n",
      "5   S2       SME        1108         1108      0\n",
      "6   S3       MNC        1117         1171     54\n",
      "7   S3       SME        1088         1101     13\n",
      "8   S3       LLC        1129         1133      4\n"
     ]
    },
    {
     "data": {
      "image/png": "[encoded data removed]",
      "text/plain": [
       "<Figure size 576x360 with 1 Axes>"
      ]
     },
     "metadata": {
      "needs_background": "light"
     },
     "output_type": "display_data"
    },
    {
     "name": "stdout",
     "output_type": "stream",
     "text": [
      "sensitivity: 1\n",
      "confidence interval: (-29.9573227355399, 29.9573227355399)\n"
     ]
    }
   ],
   "source": [
    "# Laplacian noise\n",
    "epsilon = 0.1 \n",
    "\n",
    "# group by query \n",
    "count_sectors_firm_type_query = (\n",
    "    QueryBuilder(\"sectors_analysis\")\n",
    "    .groupby(sectors_firm_type_keys)\n",
    "    .count() \n",
    ")\n",
    "\n",
    "# privacy budget for the query\n",
    "dp_private_data = session.evaluate(\n",
    "    count_sectors_firm_type_query,\n",
    "    privacy_budget=PureDPBudget(epsilon), \n",
    ")\n",
    "\n",
    "# show visualisation\n",
    "visualise(dp_private_data, public_data, [\"firm_type\"], \"count\", \"Count\", \"Number of R&D firms by Enterprise Type (epsilon = {})\".format(epsilon), None, None).show()\n",
    "print(f\"sensitivity: {session._stability['sectors_analysis']}\")\n",
    "\n",
    "print_laplace_confidence_interval(session._stability[\"sectors_analysis\"], epsilon)"
   ]
  },
  {
   "cell_type": "markdown",
   "id": "24c9cebe-279b-4811-a7cb-950b1aefe257",
   "metadata": {},
   "source": [
    "### 2. BERD by Enterprise Type (group by >> summation)\n",
    "\n",
    "##### Group by: Sectors -- (SSIC), Enterprise Type (\"SSE\", \"MNC\", \"LLC\") -- (firm_type)\n",
    "##### Summation: BERD -- (exp_total_rnd) "
   ]
  },
  {
   "cell_type": "code",
   "execution_count": 94,
   "id": "ecd42367-cc8f-4c5c-9843-dbd50cbbbc2f",
   "metadata": {},
   "outputs": [
    {
     "name": "stdout",
     "output_type": "stream",
     "text": [
      "  SSIC firm_type     true_sum     noisy_sum         error\n",
      "0   S1       SME  3164819.213  3.063850e+06 -100968.98118\n",
      "1   S1       MNC  3319577.487  3.225073e+06  -94504.90818\n",
      "2   S1       LLC  3272143.231  3.162762e+06 -109381.62818\n",
      "3   S2       LLC  3438314.873  3.342058e+06  -96257.07618\n",
      "4   S2       MNC  3494281.321  3.372268e+06 -122013.16518\n",
      "5   S2       SME  3297416.359  3.200150e+06  -97266.69118\n",
      "6   S3       MNC  3318551.090  3.214578e+06 -103972.79718\n",
      "7   S3       SME  3315438.144  3.188893e+06 -126545.20018\n",
      "8   S3       LLC  3407320.935  3.294815e+06 -112505.62018\n"
     ]
    },
    {
     "data": {
      "image/png": "[encoded data removed]",
      "text/plain": [
       "<Figure size 576x360 with 1 Axes>"
      ]
     },
     "metadata": {
      "needs_background": "light"
     },
     "output_type": "display_data"
    },
    {
     "name": "stdout",
     "output_type": "stream",
     "text": [
      "sensitivity: 1\n",
      "noise scale: 4000.0\n",
      "variance: 32000000.0\n",
      "confidence interval: (-18420.680743952365, 18420.680743952365)\n"
     ]
    }
   ],
   "source": [
    "# Laplacian noise\n",
    "epsilon = 2 \n",
    "CLAMPING_BOUNDS = [0, 4000]\n",
    "\n",
    "# group by query \n",
    "berd_sectors_firm_type_query = (\n",
    "    QueryBuilder(\"sectors_analysis\")\n",
    "    .groupby(sectors_firm_type_keys)\n",
    "    .sum(\"exp_total_rnd\", low=CLAMPING_BOUNDS[0], high=CLAMPING_BOUNDS[1]) \n",
    ")\n",
    "\n",
    "# privacy budget for the query\n",
    "dp_private_data = session.evaluate(\n",
    "    berd_sectors_firm_type_query,\n",
    "    privacy_budget=PureDPBudget(epsilon), \n",
    ")\n",
    "\n",
    "visualise(dp_private_data, public_data, [\"firm_type\"], \"sum\", \"Sum\", \"BERD by Enterprise Type (epsilon = {})\".format(epsilon), \"exp_total_rnd\", None).show()\n",
    "print(f\"sensitivity: {session._stability['sectors_analysis']}\")\n",
    "\n",
    "# print_laplace_confidence_interval(session._stability[\"sectors_analysis\"]*2*4000, epsilon)"
   ]
  },
  {
   "cell_type": "markdown",
   "id": "ecc16ba2-3a70-4bb6-b60f-b449d82b80f4",
   "metadata": {},
   "source": [
    "### 3. Number of Private R&D Centres by Enterprise Type (filter >> group by >> summation)\n",
    "\n",
    "##### **Filter**: Public (\"Gov\", \"IHL\", \"Public RI\") or Private -- (ownership_type) \n",
    "##### **Group by**: Sectors -- (SSIC), Enterprise Type (\"SSE\", \"MNC\", \"LLC\") -- (firm_type)\n",
    "##### **Summation**: BERD -- (exp_total_rnd) "
   ]
  },
  {
   "cell_type": "code",
   "execution_count": 54,
   "id": "24f38ad5-85f9-4824-874b-d11916f126ff",
   "metadata": {},
   "outputs": [],
   "source": [
    "sectors_firm_ownership_type_keys = KeySet.from_dict({\n",
    "    \"SSIC\": sectors_list, \n",
    "    \"firm_type\": FIRM_TYPES,\n",
    "    \"ownership_type\": OWNERSHIP_TYPES\n",
    "})\n",
    "\n",
    "sectors_firm_ownership_type_keys_filtered = sectors_firm_ownership_type_keys.filter(\"\"\"\n",
    "    ownership_type == 'Private'\n",
    "\"\"\")"
   ]
  },
  {
   "cell_type": "code",
   "execution_count": 106,
   "id": "94e8dee1-bd04-433e-9e07-efe6d94557cb",
   "metadata": {},
   "outputs": [
    {
     "name": "stderr",
     "output_type": "stream",
     "text": [
      "22/07/13 12:36:29 WARN MemoryManager: Total allocation exceeds 95.00% (906,992,014 bytes) of heap memory\n",
      "Scaling row group sizes to 96.54% for 7 writers\n",
      "                                                                                \r"
     ]
    },
    {
     "name": "stdout",
     "output_type": "stream",
     "text": [
      "  SSIC firm_type ownership_type  true_count  noisy_count  error\n",
      "0   S1       LLC        Private         268          269      1\n",
      "1   S1       MNC        Private         282          282      0\n",
      "2   S1       SME        Private         269          269      0\n",
      "3   S2       LLC        Private         271          271      0\n",
      "4   S2       MNC        Private         269          267     -2\n",
      "5   S2       SME        Private         289          290      1\n",
      "6   S3       MNC        Private         272          271     -1\n",
      "7   S3       LLC        Private         280          280      0\n",
      "8   S3       SME        Private         284          284      0\n"
     ]
    },
    {
     "data": {
      "image/png": "[encoded data removed]",
      "text/plain": [
       "<Figure size 576x360 with 1 Axes>"
      ]
     },
     "metadata": {
      "needs_background": "light"
     },
     "output_type": "display_data"
    },
    {
     "name": "stdout",
     "output_type": "stream",
     "text": [
      "sensitivity: 1\n"
     ]
    }
   ],
   "source": [
    "# Laplacian noise\n",
    "epsilon = 2 \n",
    "\n",
    "# group by query \n",
    "count_sectors_firm_ownership_type_query = (\n",
    "    QueryBuilder(\"sectors_analysis\")\n",
    "    .groupby(sectors_firm_ownership_type_keys_filtered)\n",
    "    .count() \n",
    ")\n",
    "\n",
    "# privacy budget for the query\n",
    "dp_private_data = session.evaluate(\n",
    "    count_sectors_firm_ownership_type_query,\n",
    "    privacy_budget=PureDPBudget(epsilon), \n",
    ")\n",
    "\n",
    "# show visualisations\n",
    "visualise(dp_private_data, public_data, [\"firm_type\", \"ownership_type\"], \"count\", \"Count\", \"Number of Private R&D Centres by Enterprise Type (epsilon = {})\"\n",
    "          .format(epsilon), None, OWNERSHIP_TYPES[-1]).show()\n",
    "print(f\"sensitivity: {session._stability['sectors_analysis']}\")"
   ]
  },
  {
   "cell_type": "markdown",
   "id": "2c7cfbc7-85e2-4b60-b11a-7f5ce2e23a82",
   "metadata": {},
   "source": [
    "### 4. Number of Industry Researchers by Nationality (filter >> group by >> summation)\n",
    "\n",
    "##### **Filter**: Public (\"Gov\", \"IHL\", \"Public RI\") or Private -- (ownership_type) \n",
    "##### **Group by**: Sectors -- (SSIC)\n",
    "##### **Summation**: Nationality (\"SC\", \"PR\", \"FC\") -- (no_sc_researchers, no_pr_researchers, no_fc_researchers) \n",
    "\n",
    "#### 4.1.  Nationality type **SC**"
   ]
  },
  {
   "cell_type": "code",
   "execution_count": 59,
   "id": "430973c7-be76-45c7-8246-9c743ea5b306",
   "metadata": {},
   "outputs": [
    {
     "name": "stderr",
     "output_type": "stream",
     "text": [
      "                                                                                \r"
     ]
    },
    {
     "name": "stdout",
     "output_type": "stream",
     "text": [
      "  SSIC ownership_type  true_sum  noisy_sum  error\n",
      "0   S1        Private      4073       4101     28\n",
      "1   S2        Private      2430       2448     18\n",
      "2   S3        Private      1227       1216    -11\n"
     ]
    },
    {
     "data": {
      "image/png": "[encoded data removed]",
      "text/plain": [
       "<Figure size 576x360 with 1 Axes>"
      ]
     },
     "metadata": {
      "needs_background": "light"
     },
     "output_type": "display_data"
    }
   ],
   "source": [
    "sectors_ownership_type_keys = KeySet.from_dict({\n",
    "    \"SSIC\": sectors_list, \n",
    "    \"ownership_type\": OWNERSHIP_TYPES\n",
    "})\n",
    "\n",
    "sectors_ownership_type_keys_filtered = sectors_ownership_type_keys.filter(\"\"\"\n",
    "    ownership_type == 'Private'\n",
    "\"\"\")\n",
    "\n",
    "# Laplacian noise\n",
    "epsilon = 10 \n",
    "CLAMPING_BOUNDS = [0, 900]\n",
    "\n",
    "# group by query \n",
    "sc_researchers_sectors_ownership_type_query = (\n",
    "    QueryBuilder(\"sectors_analysis\")\n",
    "    .groupby(sectors_ownership_type_keys_filtered)\n",
    "    .sum(\"no_sc_researchers\", low=CLAMPING_BOUNDS[0], high=CLAMPING_BOUNDS[1]) \n",
    ")\n",
    "\n",
    "# privacy budget for the query\n",
    "dp_private_data = session.evaluate(\n",
    "    sc_researchers_sectors_ownership_type_query,\n",
    "    privacy_budget=PureDPBudget(epsilon), \n",
    ")\n",
    "\n",
    "visualise(dp_private_data, public_data, [\"ownership_type\"], \"sum\", \"Sum\", \n",
    "          \"Number of Industry Researchers by Nationality SC type (epsilon = {})\".format(epsilon), \"no_sc_researchers\", \"ownership_type\").show()"
   ]
  },
  {
   "cell_type": "markdown",
   "id": "c6ab6f3e-1e40-4b1d-bff1-459cf438694f",
   "metadata": {},
   "source": [
    "#### 4.2.  Nationality type **PR**"
   ]
  },
  {
   "cell_type": "code",
   "execution_count": 81,
   "id": "f6b1fd2b-ea72-4f80-9fc7-d8f46657d88f",
   "metadata": {},
   "outputs": [
    {
     "name": "stderr",
     "output_type": "stream",
     "text": [
      "                                                                                \r"
     ]
    },
    {
     "name": "stdout",
     "output_type": "stream",
     "text": [
      "  SSIC ownership_type  true_sum  noisy_sum  error\n",
      "0   S1        Private    240994     239455  -1539\n",
      "1   S2        Private    252960     252565   -395\n",
      "2   S3        Private    242231     240350  -1881\n"
     ]
    },
    {
     "data": {
      "image/png": "[encoded data removed]",
      "text/plain": [
       "<Figure size 576x360 with 1 Axes>"
      ]
     },
     "metadata": {
      "needs_background": "light"
     },
     "output_type": "display_data"
    }
   ],
   "source": [
    "# Laplacian noise\n",
    "epsilon = 10 \n",
    "CLAMPING_BOUNDS = [0, 1000]\n",
    "\n",
    "# group by query \n",
    "pr_researchers_sectors_ownership_type_query = (\n",
    "    QueryBuilder(\"sectors_analysis\")\n",
    "    .groupby(sectors_ownership_type_keys_filtered)\n",
    "    .sum(\"no_pr_researchers\", low=CLAMPING_BOUNDS[0], high=CLAMPING_BOUNDS[1]) \n",
    ")\n",
    "\n",
    "# privacy budget for the query\n",
    "dp_private_data = session.evaluate(\n",
    "    pr_researchers_sectors_ownership_type_query,\n",
    "    privacy_budget=PureDPBudget(epsilon), \n",
    ")\n",
    "\n",
    "visualise(dp_private_data, public_data, [\"ownership_type\"], \"sum\", \"Sum\", \n",
    "          \"Number of Industry Researchers by Nationality PR type (epsilon = {})\".format(epsilon), \"no_pr_researchers\", \"ownership_type\").show()"
   ]
  },
  {
   "cell_type": "markdown",
   "id": "acdf952e-b43e-4f0c-add9-f2290cfe3167",
   "metadata": {},
   "source": [
    "#### 4.3.  Nationality type **FC**"
   ]
  },
  {
   "cell_type": "code",
   "execution_count": 60,
   "id": "e507e2f3-9558-4a3e-8933-b487191fd94d",
   "metadata": {},
   "outputs": [
    {
     "name": "stderr",
     "output_type": "stream",
     "text": [
      "                                                                                \r"
     ]
    },
    {
     "name": "stdout",
     "output_type": "stream",
     "text": [
      "  SSIC ownership_type  true_sum  noisy_sum  error\n",
      "0   S1        Private      2021       2011    -10\n",
      "1   S2        Private      2079       2067    -12\n",
      "2   S3        Private      2888       2715   -173\n"
     ]
    },
    {
     "data": {
      "image/png": "[encoded data removed]",
      "text/plain": [
       "<Figure size 576x360 with 1 Axes>"
      ]
     },
     "metadata": {
      "needs_background": "light"
     },
     "output_type": "display_data"
    }
   ],
   "source": [
    "# Laplacian noise\n",
    "epsilon = 10 \n",
    "CLAMPING_BOUNDS = [0, 600]\n",
    "\n",
    "# group by query \n",
    "fc_researchers_sectors_ownership_type_query = (\n",
    "    QueryBuilder(\"sectors_analysis\")\n",
    "    .groupby(sectors_ownership_type_keys_filtered)\n",
    "    .sum(\"no_fc_researchers\", low=CLAMPING_BOUNDS[0], high=CLAMPING_BOUNDS[1]) \n",
    ")\n",
    "\n",
    "# privacy budget for the query\n",
    "dp_private_data = session.evaluate(\n",
    "    fc_researchers_sectors_ownership_type_query,\n",
    "    privacy_budget=PureDPBudget(epsilon), \n",
    ")\n",
    "\n",
    "visualise(dp_private_data, public_data, [\"ownership_type\"], \"sum\", \"Sum\", \n",
    "          \"Number of Industry Researchers by Nationality FC type (epsilon = {})\".format(epsilon), \"no_fc_researchers\", \"ownership_type\").show()"
   ]
  },
  {
   "cell_type": "code",
   "execution_count": null,
   "id": "08a24938-4e47-4d87-b8e6-34de10e48152",
   "metadata": {},
   "outputs": [],
   "source": []
  }
 ],
 "metadata": {
  "kernelspec": {
   "display_name": "Python 3 (ipykernel)",
   "language": "python",
   "name": "python3"
  },
  "language_info": {
   "codemirror_mode": {
    "name": "ipython",
    "version": 3
   },
   "file_extension": ".py",
   "mimetype": "text/x-python",
   "name": "python",
   "nbconvert_exporter": "python",
   "pygments_lexer": "ipython3",
   "version": "3.8.11"
  }
 },
 "nbformat": 4,
 "nbformat_minor": 5
}
