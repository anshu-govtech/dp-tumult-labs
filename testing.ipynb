{
 "cells": [
  {
   "cell_type": "code",
   "execution_count": 1,
   "id": "a18561a8-f670-47b0-a69b-02becd7c3409",
   "metadata": {},
   "outputs": [],
   "source": [
    "import pandas as pd"
   ]
  },
  {
   "cell_type": "code",
   "execution_count": 2,
   "id": "a7818095-3a66-4a81-b67f-cfd168e11362",
   "metadata": {},
   "outputs": [],
   "source": [
    "df = pd.read_csv(\"members.csv\")"
   ]
  },
  {
   "cell_type": "code",
   "execution_count": 3,
   "id": "93960cef-75fd-4862-800b-aa167daa2200",
   "metadata": {},
   "outputs": [
    {
     "data": {
      "text/html": [
       "<div>\n",
       "<style scoped>\n",
       "    .dataframe tbody tr th:only-of-type {\n",
       "        vertical-align: middle;\n",
       "    }\n",
       "\n",
       "    .dataframe tbody tr th {\n",
       "        vertical-align: top;\n",
       "    }\n",
       "\n",
       "    .dataframe thead th {\n",
       "        text-align: right;\n",
       "    }\n",
       "</style>\n",
       "<table border=\"1\" class=\"dataframe\">\n",
       "  <thead>\n",
       "    <tr style=\"text-align: right;\">\n",
       "      <th></th>\n",
       "      <th>id</th>\n",
       "      <th>name</th>\n",
       "      <th>age</th>\n",
       "      <th>gender</th>\n",
       "      <th>education_level</th>\n",
       "      <th>zip_code</th>\n",
       "      <th>books_borrowed</th>\n",
       "      <th>favorite_genres</th>\n",
       "      <th>date_joined</th>\n",
       "    </tr>\n",
       "  </thead>\n",
       "  <tbody>\n",
       "    <tr>\n",
       "      <th>0</th>\n",
       "      <td>421742</td>\n",
       "      <td>Alan</td>\n",
       "      <td>20</td>\n",
       "      <td>male</td>\n",
       "      <td>high-school-diploma</td>\n",
       "      <td>27509</td>\n",
       "      <td>22</td>\n",
       "      <td>Religion/spirituality;Mystery/thriller/crime</td>\n",
       "      <td>2021-08-26</td>\n",
       "    </tr>\n",
       "    <tr>\n",
       "      <th>1</th>\n",
       "      <td>338337</td>\n",
       "      <td>Tessa</td>\n",
       "      <td>27</td>\n",
       "      <td>female</td>\n",
       "      <td>bachelors-associate</td>\n",
       "      <td>27278</td>\n",
       "      <td>0</td>\n",
       "      <td>Science fiction;Graphic novels;History</td>\n",
       "      <td>2021-11-19</td>\n",
       "    </tr>\n",
       "    <tr>\n",
       "      <th>2</th>\n",
       "      <td>348835</td>\n",
       "      <td>Flaquita</td>\n",
       "      <td>52</td>\n",
       "      <td>female</td>\n",
       "      <td>high-school-diploma</td>\n",
       "      <td>27252</td>\n",
       "      <td>2</td>\n",
       "      <td>Cookbooks/food writing;Business;History</td>\n",
       "      <td>2021-04-23</td>\n",
       "    </tr>\n",
       "    <tr>\n",
       "      <th>3</th>\n",
       "      <td>871610</td>\n",
       "      <td>Eugene</td>\n",
       "      <td>9</td>\n",
       "      <td>male</td>\n",
       "      <td>up-to-high-school</td>\n",
       "      <td>27591</td>\n",
       "      <td>15</td>\n",
       "      <td>Classics/Literature;Biographies/memoirs</td>\n",
       "      <td>2021-09-02</td>\n",
       "    </tr>\n",
       "    <tr>\n",
       "      <th>4</th>\n",
       "      <td>793820</td>\n",
       "      <td>Ernesto</td>\n",
       "      <td>64</td>\n",
       "      <td>unspecified</td>\n",
       "      <td>high-school-diploma</td>\n",
       "      <td>27712</td>\n",
       "      <td>20</td>\n",
       "      <td>Biographies/memoirs</td>\n",
       "      <td>2021-02-23</td>\n",
       "    </tr>\n",
       "    <tr>\n",
       "      <th>...</th>\n",
       "      <td>...</td>\n",
       "      <td>...</td>\n",
       "      <td>...</td>\n",
       "      <td>...</td>\n",
       "      <td>...</td>\n",
       "      <td>...</td>\n",
       "      <td>...</td>\n",
       "      <td>...</td>\n",
       "      <td>...</td>\n",
       "    </tr>\n",
       "    <tr>\n",
       "      <th>54212</th>\n",
       "      <td>512848</td>\n",
       "      <td>Eduardo</td>\n",
       "      <td>58</td>\n",
       "      <td>male</td>\n",
       "      <td>bachelors-associate</td>\n",
       "      <td>27705</td>\n",
       "      <td>18</td>\n",
       "      <td>Biographies/memoirs</td>\n",
       "      <td>2021-02-09</td>\n",
       "    </tr>\n",
       "    <tr>\n",
       "      <th>54213</th>\n",
       "      <td>218197</td>\n",
       "      <td>Narciso</td>\n",
       "      <td>53</td>\n",
       "      <td>male</td>\n",
       "      <td>high-school-diploma</td>\n",
       "      <td>27513</td>\n",
       "      <td>41</td>\n",
       "      <td>Current affairs;Biographies/memoirs;Mystery/th...</td>\n",
       "      <td>2021-05-25</td>\n",
       "    </tr>\n",
       "    <tr>\n",
       "      <th>54214</th>\n",
       "      <td>403582</td>\n",
       "      <td>Craig</td>\n",
       "      <td>27</td>\n",
       "      <td>male</td>\n",
       "      <td>high-school-diploma</td>\n",
       "      <td>27201</td>\n",
       "      <td>2</td>\n",
       "      <td>True crime;Biographies/memoirs;Cookbooks/food ...</td>\n",
       "      <td>2021-12-01</td>\n",
       "    </tr>\n",
       "    <tr>\n",
       "      <th>54215</th>\n",
       "      <td>373414</td>\n",
       "      <td>Abraham</td>\n",
       "      <td>48</td>\n",
       "      <td>male</td>\n",
       "      <td>bachelors-associate</td>\n",
       "      <td>27546</td>\n",
       "      <td>0</td>\n",
       "      <td>Science fiction;Mystery/thriller/crime;Self-help</td>\n",
       "      <td>2021-11-16</td>\n",
       "    </tr>\n",
       "    <tr>\n",
       "      <th>54216</th>\n",
       "      <td>44467</td>\n",
       "      <td>Govind</td>\n",
       "      <td>56</td>\n",
       "      <td>male</td>\n",
       "      <td>doctorate-professional</td>\n",
       "      <td>27573</td>\n",
       "      <td>77</td>\n",
       "      <td>Political;Self-help;Science fiction</td>\n",
       "      <td>2021-12-09</td>\n",
       "    </tr>\n",
       "  </tbody>\n",
       "</table>\n",
       "<p>54217 rows × 9 columns</p>\n",
       "</div>"
      ],
      "text/plain": [
       "           id      name  age       gender         education_level zip_code  \\\n",
       "0      421742      Alan   20         male     high-school-diploma    27509   \n",
       "1      338337     Tessa   27       female     bachelors-associate    27278   \n",
       "2      348835  Flaquita   52       female     high-school-diploma    27252   \n",
       "3      871610    Eugene    9         male       up-to-high-school    27591   \n",
       "4      793820   Ernesto   64  unspecified     high-school-diploma    27712   \n",
       "...       ...       ...  ...          ...                     ...      ...   \n",
       "54212  512848   Eduardo   58         male     bachelors-associate    27705   \n",
       "54213  218197   Narciso   53         male     high-school-diploma    27513   \n",
       "54214  403582     Craig   27         male     high-school-diploma    27201   \n",
       "54215  373414   Abraham   48         male     bachelors-associate    27546   \n",
       "54216   44467    Govind   56         male  doctorate-professional    27573   \n",
       "\n",
       "       books_borrowed                                    favorite_genres  \\\n",
       "0                  22       Religion/spirituality;Mystery/thriller/crime   \n",
       "1                   0             Science fiction;Graphic novels;History   \n",
       "2                   2            Cookbooks/food writing;Business;History   \n",
       "3                  15            Classics/Literature;Biographies/memoirs   \n",
       "4                  20                                Biographies/memoirs   \n",
       "...               ...                                                ...   \n",
       "54212              18                                Biographies/memoirs   \n",
       "54213              41  Current affairs;Biographies/memoirs;Mystery/th...   \n",
       "54214               2  True crime;Biographies/memoirs;Cookbooks/food ...   \n",
       "54215               0   Science fiction;Mystery/thriller/crime;Self-help   \n",
       "54216              77                Political;Self-help;Science fiction   \n",
       "\n",
       "      date_joined  \n",
       "0      2021-08-26  \n",
       "1      2021-11-19  \n",
       "2      2021-04-23  \n",
       "3      2021-09-02  \n",
       "4      2021-02-23  \n",
       "...           ...  \n",
       "54212  2021-02-09  \n",
       "54213  2021-05-25  \n",
       "54214  2021-12-01  \n",
       "54215  2021-11-16  \n",
       "54216  2021-12-09  \n",
       "\n",
       "[54217 rows x 9 columns]"
      ]
     },
     "execution_count": 3,
     "metadata": {},
     "output_type": "execute_result"
    }
   ],
   "source": [
    "df"
   ]
  },
  {
   "cell_type": "code",
   "execution_count": 14,
   "id": "7e9d1332-97ea-468c-b585-22eb14b326b9",
   "metadata": {},
   "outputs": [
    {
     "data": {
      "text/html": [
       "<div>\n",
       "<style scoped>\n",
       "    .dataframe tbody tr th:only-of-type {\n",
       "        vertical-align: middle;\n",
       "    }\n",
       "\n",
       "    .dataframe tbody tr th {\n",
       "        vertical-align: top;\n",
       "    }\n",
       "\n",
       "    .dataframe thead tr th {\n",
       "        text-align: left;\n",
       "    }\n",
       "\n",
       "    .dataframe thead tr:last-of-type th {\n",
       "        text-align: right;\n",
       "    }\n",
       "</style>\n",
       "<table border=\"1\" class=\"dataframe\">\n",
       "  <thead>\n",
       "    <tr>\n",
       "      <th></th>\n",
       "      <th colspan=\"2\" halign=\"left\">age</th>\n",
       "    </tr>\n",
       "    <tr>\n",
       "      <th></th>\n",
       "      <th>mean</th>\n",
       "      <th>count</th>\n",
       "    </tr>\n",
       "    <tr>\n",
       "      <th>education_level</th>\n",
       "      <th></th>\n",
       "      <th></th>\n",
       "    </tr>\n",
       "  </thead>\n",
       "  <tbody>\n",
       "    <tr>\n",
       "      <th>bachelors-associate</th>\n",
       "      <td>46.529593</td>\n",
       "      <td>13652</td>\n",
       "    </tr>\n",
       "    <tr>\n",
       "      <th>doctorate-professional</th>\n",
       "      <td>52.669280</td>\n",
       "      <td>1403</td>\n",
       "    </tr>\n",
       "    <tr>\n",
       "      <th>high-school-diploma</th>\n",
       "      <td>43.677985</td>\n",
       "      <td>20763</td>\n",
       "    </tr>\n",
       "    <tr>\n",
       "      <th>masters-degree</th>\n",
       "      <td>49.689992</td>\n",
       "      <td>3687</td>\n",
       "    </tr>\n",
       "    <tr>\n",
       "      <th>up-to-high-school</th>\n",
       "      <td>17.911909</td>\n",
       "      <td>14712</td>\n",
       "    </tr>\n",
       "  </tbody>\n",
       "</table>\n",
       "</div>"
      ],
      "text/plain": [
       "                              age       \n",
       "                             mean  count\n",
       "education_level                         \n",
       "bachelors-associate     46.529593  13652\n",
       "doctorate-professional  52.669280   1403\n",
       "high-school-diploma     43.677985  20763\n",
       "masters-degree          49.689992   3687\n",
       "up-to-high-school       17.911909  14712"
      ]
     },
     "execution_count": 14,
     "metadata": {},
     "output_type": "execute_result"
    }
   ],
   "source": [
    "df[['education_level', 'age']].groupby(['education_level']).agg(['mean', 'count'])"
   ]
  },
  {
   "cell_type": "code",
   "execution_count": null,
   "id": "bec803d9-deb6-47ce-a4f1-2c456050754b",
   "metadata": {},
   "outputs": [],
   "source": [
    "education_level       |age_average       |\n",
    "+----------------------+------------------+\n",
    "|up-to-high-school     |17.891033920195774|\n",
    "|high-school-diploma   |43.68198237248953 |\n",
    "|bachelors-associate   |46.52103180419171 |\n",
    "|masters-degree        |49.78925956061839 |\n",
    "|doctorate-professional|52.68327402135231 |"
   ]
  },
  {
   "cell_type": "code",
   "execution_count": null,
   "id": "790e9aae-850c-4850-a08d-f0d0b1e4cb6a",
   "metadata": {},
   "outputs": [],
   "source": []
  },
  {
   "cell_type": "code",
   "execution_count": null,
   "id": "c0fdd367-7580-457e-9870-405a459de3c2",
   "metadata": {},
   "outputs": [],
   "source": []
  },
  {
   "cell_type": "code",
   "execution_count": 6,
   "id": "c631b137-3494-4fe0-8eb4-7bf3d0d9d3ac",
   "metadata": {},
   "outputs": [
    {
     "data": {
      "text/plain": [
       "96"
      ]
     },
     "execution_count": 6,
     "metadata": {},
     "output_type": "execute_result"
    }
   ],
   "source": [
    "df['age'].max()"
   ]
  },
  {
   "cell_type": "code",
   "execution_count": 7,
   "id": "a1952a10-f7d6-494d-9af8-76c50e5d04c7",
   "metadata": {},
   "outputs": [
    {
     "data": {
      "text/plain": [
       "(54217, 9)"
      ]
     },
     "execution_count": 7,
     "metadata": {},
     "output_type": "execute_result"
    }
   ],
   "source": [
    "df.shape"
   ]
  },
  {
   "cell_type": "code",
   "execution_count": 11,
   "id": "477c75e3-04fa-4581-b08d-45aa7fed3e87",
   "metadata": {},
   "outputs": [],
   "source": [
    "df2 = pd.read_csv(\"rie_survey.csv\")"
   ]
  },
  {
   "cell_type": "code",
   "execution_count": 13,
   "id": "609e860c-b51a-4106-8fa1-624ad73e0a98",
   "metadata": {},
   "outputs": [
    {
     "data": {
      "image/png": "[encoded data removed]",
      "text/plain": [
       "<Figure size 432x288 with 1 Axes>"
      ]
     },
     "metadata": {
      "needs_background": "light"
     },
     "output_type": "display_data"
    }
   ],
   "source": [
    "df2.BERD.hist();\n"
   ]
  },
  {
   "cell_type": "code",
   "execution_count": null,
   "id": "cc12cd6a-f37c-487c-a1f1-20b07f60a46b",
   "metadata": {},
   "outputs": [],
   "source": []
  },
  {
   "cell_type": "code",
   "execution_count": null,
   "id": "f0ac1a30-9f6e-450b-992d-898efd611528",
   "metadata": {},
   "outputs": [],
   "source": [
    "Adding Laplace noise"
   ]
  },
  {
   "cell_type": "code",
   "execution_count": null,
   "id": "a3d6c93f-00c2-4606-8c02-86a180f7c269",
   "metadata": {},
   "outputs": [],
   "source": []
  },
  {
   "cell_type": "code",
   "execution_count": null,
   "id": "82e095bf-c2fd-4fa2-ba80-231084b5bac8",
   "metadata": {},
   "outputs": [],
   "source": []
  }
 ],
 "metadata": {
  "kernelspec": {
   "display_name": "Python 3 (ipykernel)",
   "language": "python",
   "name": "python3"
  },
  "language_info": {
   "codemirror_mode": {
    "name": "ipython",
    "version": 3
   },
   "file_extension": ".py",
   "mimetype": "text/x-python",
   "name": "python",
   "nbconvert_exporter": "python",
   "pygments_lexer": "ipython3",
   "version": "3.8.9"
  }
 },
 "nbformat": 4,
 "nbformat_minor": 5
}
