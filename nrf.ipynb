{
 "cells": [
  {
   "cell_type": "code",
   "execution_count": 34,
   "id": "cdfb76cb-79f3-4648-b6b6-0c3fb4f9c69e",
   "metadata": {},
   "outputs": [],
   "source": [
    "import os\n",
    "import requests\n",
    "from pyspark.sql import SparkSession\n",
    "from tmlt.analytics.keyset import KeySet\n",
    "from tmlt.analytics.privacy_budget import PureDPBudget\n",
    "from tmlt.analytics.query_builder import QueryBuilder\n",
    "from tmlt.analytics.session import Session\n",
    "\n",
    "# r = requests.get(\n",
    "#     'https://tumult-public.s3.amazonaws.com/library-members.csv',\n",
    "# )\n",
    "# with open(\"members.csv\", \"w\") as f:\n",
    "#     f.write(r.text)\n",
    "spark = SparkSession.builder.getOrCreate()\n",
    "members_df = spark.read.csv(\"rie_survey2.csv\", header=True, inferSchema=True)\n",
    "\n",
    "session = Session.from_dataframe(\n",
    "    privacy_budget=PureDPBudget(epsilon=float('inf')),\n",
    "    source_id=\"members\",\n",
    "    dataframe=members_df,\n",
    ")"
   ]
  },
  {
   "cell_type": "code",
   "execution_count": 35,
   "id": "d62b9d20-404d-428d-ba73-89f972922a20",
   "metadata": {},
   "outputs": [],
   "source": [
    "itms_list = members_df.select('ITMs').collect()"
   ]
  },
  {
   "cell_type": "code",
   "execution_count": 36,
   "id": "48d2e518-7a62-4dbc-bef1-bad318f6788b",
   "metadata": {},
   "outputs": [],
   "source": [
    "itms_array = [str(row.ITMs) for row in itms_list]"
   ]
  },
  {
   "cell_type": "code",
   "execution_count": 37,
   "id": "9a21cc12-ba0e-43dd-ac42-36d5e094b591",
   "metadata": {},
   "outputs": [
    {
     "data": {
      "text/plain": [
       "['Precision Engineering',\n",
       " 'Marine and Offshore',\n",
       " 'Aerospace',\n",
       " 'Energy and Chemicals',\n",
       " 'Food Manufacturing',\n",
       " 'Wholesale Trade',\n",
       " 'Logistics',\n",
       " 'Sea Transport',\n",
       " 'Construction',\n",
       " 'Professional Services',\n",
       " 'Information and Communications',\n",
       " 'Financial Services',\n",
       " 'Retail',\n",
       " 'Non-ITM (Biomed Mfg)']"
      ]
     },
     "execution_count": 37,
     "metadata": {},
     "output_type": "execute_result"
    }
   ],
   "source": [
    "itms_array"
   ]
  },
  {
   "cell_type": "code",
   "execution_count": 38,
   "id": "299db9a5-35cc-4e42-867a-e3e8e7f0c821",
   "metadata": {},
   "outputs": [
    {
     "data": {
      "text/plain": [
       "[Row(ITMs='Precision Engineering', BERD=528.4),\n",
       " Row(ITMs='Marine and Offshore', BERD=34.2),\n",
       " Row(ITMs='Aerospace', BERD=81.8),\n",
       " Row(ITMs='Energy and Chemicals', BERD=300.8),\n",
       " Row(ITMs='Food Manufacturing', BERD=86.6),\n",
       " Row(ITMs='Wholesale Trade', BERD=940.2),\n",
       " Row(ITMs='Logistics', BERD=179.9),\n",
       " Row(ITMs='Sea Transport', BERD=180.9),\n",
       " Row(ITMs='Construction', BERD=14.7),\n",
       " Row(ITMs='Professional Services', BERD=295.0)]"
      ]
     },
     "execution_count": 38,
     "metadata": {},
     "output_type": "execute_result"
    }
   ],
   "source": [
    "members_df.head(10)"
   ]
  },
  {
   "cell_type": "code",
   "execution_count": 39,
   "id": "8d519dc8-ae97-47d4-ae13-2770179471c6",
   "metadata": {},
   "outputs": [],
   "source": [
    "itm_sectors = KeySet.from_dict({\n",
    "    \"ITMs\": itms_array\n",
    "})"
   ]
  },
  {
   "cell_type": "code",
   "execution_count": 61,
   "id": "71b2fb87-edbb-42c3-882b-b7d14e58f92f",
   "metadata": {},
   "outputs": [
    {
     "name": "stdout",
     "output_type": "stream",
     "text": [
      "+------------------------------+------------------+\n",
      "|ITMs                          |BERD_max          |\n",
      "+------------------------------+------------------+\n",
      "|Wholesale Trade               |3.1531054650086787|\n",
      "|Precision Engineering         |14.53246636296845 |\n",
      "|Construction                  |24.662971662814215|\n",
      "|Retail                        |26.613957238718854|\n",
      "|Energy and Chemicals          |54.7658214115919  |\n",
      "|Aerospace                     |70.0660596342069  |\n",
      "|Professional Services         |86.22596197366721 |\n",
      "|Non-ITM (Biomed Mfg)          |132.12276391375605|\n",
      "|Food Manufacturing            |142.83544710221034|\n",
      "|Marine and Offshore           |147.28233624664597|\n",
      "|Financial Services            |151.04018772801254|\n",
      "|Information and Communications|159.88855300389028|\n",
      "|Logistics                     |188.3631281035168 |\n",
      "|Sea Transport                 |192.17272231496432|\n",
      "+------------------------------+------------------+\n",
      "\n"
     ]
    }
   ],
   "source": [
    "edu_average_age_query = (\n",
    "    QueryBuilder(\"members\")\n",
    "    .groupby(itm_sectors)\n",
    "    .max(\"BERD\", low=0, high=200)\n",
    ")\n",
    "edu_average_ages = session.evaluate(\n",
    "    edu_average_age_query,\n",
    "    privacy_budget=PureDPBudget(5),\n",
    ")\n",
    "edu_average_ages.sort(\"BERD_max\").show(truncate=False)"
   ]
  },
  {
   "cell_type": "code",
   "execution_count": null,
   "id": "a5cf4fc7-5b23-47e4-b555-ec6ff01da565",
   "metadata": {},
   "outputs": [],
   "source": []
  },
  {
   "cell_type": "code",
   "execution_count": null,
   "id": "87b99c34-c225-4b69-b9e1-620941bfa26a",
   "metadata": {},
   "outputs": [],
   "source": []
  }
 ],
 "metadata": {
  "kernelspec": {
   "display_name": "Python 3 (ipykernel)",
   "language": "python",
   "name": "python3"
  },
  "language_info": {
   "codemirror_mode": {
    "name": "ipython",
    "version": 3
   },
   "file_extension": ".py",
   "mimetype": "text/x-python",
   "name": "python",
   "nbconvert_exporter": "python",
   "pygments_lexer": "ipython3",
   "version": "3.7.13"
  }
 },
 "nbformat": 4,
 "nbformat_minor": 5
}
