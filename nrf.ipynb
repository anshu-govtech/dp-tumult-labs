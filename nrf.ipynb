{
 "cells": [
  {
   "cell_type": "code",
   "execution_count": 5,
   "id": "cdfb76cb-79f3-4648-b6b6-0c3fb4f9c69e",
   "metadata": {},
   "outputs": [],
   "source": [
    "import os\n",
    "import requests\n",
    "from pyspark.sql import SparkSession\n",
    "from tmlt.analytics.keyset import KeySet\n",
    "from tmlt.analytics.privacy_budget import PureDPBudget\n",
    "from tmlt.analytics.query_builder import QueryBuilder\n",
    "from tmlt.analytics.session import Session\n",
    "\n",
    "# r = requests.get(\n",
    "#     'https://tumult-public.s3.amazonaws.com/library-members.csv',\n",
    "# )\n",
    "# with open(\"members.csv\", \"w\") as f:\n",
    "#     f.write(r.text)\n",
    "spark = SparkSession.builder.getOrCreate()\n",
    "members_df = spark.read.csv(\"rie_survey2.csv\", header=True, inferSchema=True)\n",
    "\n",
    "session = Session.from_dataframe(\n",
    "    privacy_budget=PureDPBudget(epsilon=float('inf')),\n",
    "    source_id=\"members\",\n",
    "    dataframe=members_df,\n",
    ")"
   ]
  },
  {
   "cell_type": "code",
   "execution_count": 6,
   "id": "d62b9d20-404d-428d-ba73-89f972922a20",
   "metadata": {},
   "outputs": [],
   "source": [
    "itms_list = members_df.select('ITMs').collect()"
   ]
  },
  {
   "cell_type": "code",
   "execution_count": 7,
   "id": "48d2e518-7a62-4dbc-bef1-bad318f6788b",
   "metadata": {},
   "outputs": [],
   "source": [
    "itms_array = [str(row.ITMs) for row in itms_list]"
   ]
  },
  {
   "cell_type": "code",
   "execution_count": 8,
   "id": "9a21cc12-ba0e-43dd-ac42-36d5e094b591",
   "metadata": {},
   "outputs": [
    {
     "data": {
      "text/plain": [
       "['Precision Engineering',\n",
       " 'Marine and Offshore',\n",
       " 'Aerospace',\n",
       " 'Energy and Chemicals',\n",
       " 'Food Manufacturing',\n",
       " 'Wholesale Trade',\n",
       " 'Logistics',\n",
       " 'Sea Transport',\n",
       " 'Construction',\n",
       " 'Professional Services',\n",
       " 'Information and Communications',\n",
       " 'Financial Services',\n",
       " 'Retail',\n",
       " 'Non-ITM (Biomed Mfg)']"
      ]
     },
     "execution_count": 8,
     "metadata": {},
     "output_type": "execute_result"
    }
   ],
   "source": [
    "itms_array"
   ]
  },
  {
   "cell_type": "code",
   "execution_count": 9,
   "id": "299db9a5-35cc-4e42-867a-e3e8e7f0c821",
   "metadata": {},
   "outputs": [
    {
     "data": {
      "text/plain": [
       "[Row(ITMs='Precision Engineering', BERD=528.4),\n",
       " Row(ITMs='Marine and Offshore', BERD=34.2),\n",
       " Row(ITMs='Aerospace', BERD=81.8),\n",
       " Row(ITMs='Energy and Chemicals', BERD=300.8),\n",
       " Row(ITMs='Food Manufacturing', BERD=86.6),\n",
       " Row(ITMs='Wholesale Trade', BERD=940.2),\n",
       " Row(ITMs='Logistics', BERD=179.9),\n",
       " Row(ITMs='Sea Transport', BERD=180.9),\n",
       " Row(ITMs='Construction', BERD=14.7),\n",
       " Row(ITMs='Professional Services', BERD=295.0)]"
      ]
     },
     "execution_count": 9,
     "metadata": {},
     "output_type": "execute_result"
    }
   ],
   "source": [
    "members_df.head(10)"
   ]
  },
  {
   "cell_type": "code",
   "execution_count": 10,
   "id": "8d519dc8-ae97-47d4-ae13-2770179471c6",
   "metadata": {},
   "outputs": [],
   "source": [
    "itm_sectors = KeySet.from_dict({\n",
    "    \"ITMs\": itms_array\n",
    "})"
   ]
  },
  {
   "cell_type": "code",
   "execution_count": 11,
   "id": "71b2fb87-edbb-42c3-882b-b7d14e58f92f",
   "metadata": {},
   "outputs": [
    {
     "name": "stderr",
     "output_type": "stream",
     "text": [
      "22/06/13 23:54:22 WARN MemoryManager: Total allocation exceeds 95.00% (906,992,014 bytes) of heap memory\n",
      "Scaling row group sizes to 96.54% for 7 writers\n",
      "22/06/13 23:54:22 WARN MemoryManager: Total allocation exceeds 95.00% (906,992,014 bytes) of heap memory\n",
      "Scaling row group sizes to 84.47% for 8 writers\n",
      "22/06/13 23:54:22 WARN MemoryManager: Total allocation exceeds 95.00% (906,992,014 bytes) of heap memory\n",
      "Scaling row group sizes to 75.08% for 9 writers\n",
      "22/06/13 23:54:22 WARN MemoryManager: Total allocation exceeds 95.00% (906,992,014 bytes) of heap memory\n",
      "Scaling row group sizes to 67.58% for 10 writers\n",
      "22/06/13 23:54:22 WARN MemoryManager: Total allocation exceeds 95.00% (906,992,014 bytes) of heap memory\n",
      "Scaling row group sizes to 61.43% for 11 writers\n",
      "22/06/13 23:54:22 WARN MemoryManager: Total allocation exceeds 95.00% (906,992,014 bytes) of heap memory\n",
      "Scaling row group sizes to 56.31% for 12 writers\n",
      "22/06/13 23:54:22 WARN MemoryManager: Total allocation exceeds 95.00% (906,992,014 bytes) of heap memory\n",
      "Scaling row group sizes to 51.98% for 13 writers\n",
      "22/06/13 23:54:22 WARN MemoryManager: Total allocation exceeds 95.00% (906,992,014 bytes) of heap memory\n",
      "Scaling row group sizes to 48.27% for 14 writers\n",
      "22/06/13 23:54:23 WARN MemoryManager: Total allocation exceeds 95.00% (906,992,014 bytes) of heap memory\n",
      "Scaling row group sizes to 51.98% for 13 writers\n",
      "22/06/13 23:54:23 WARN MemoryManager: Total allocation exceeds 95.00% (906,992,014 bytes) of heap memory\n",
      "Scaling row group sizes to 56.31% for 12 writers\n",
      "22/06/13 23:54:23 WARN MemoryManager: Total allocation exceeds 95.00% (906,992,014 bytes) of heap memory\n",
      "Scaling row group sizes to 61.43% for 11 writers\n",
      "22/06/13 23:54:23 WARN MemoryManager: Total allocation exceeds 95.00% (906,992,014 bytes) of heap memory\n",
      "Scaling row group sizes to 67.58% for 10 writers\n",
      "22/06/13 23:54:23 WARN MemoryManager: Total allocation exceeds 95.00% (906,992,014 bytes) of heap memory\n",
      "Scaling row group sizes to 75.08% for 9 writers\n",
      "22/06/13 23:54:23 WARN MemoryManager: Total allocation exceeds 95.00% (906,992,014 bytes) of heap memory\n",
      "Scaling row group sizes to 84.47% for 8 writers\n",
      "22/06/13 23:54:23 WARN MemoryManager: Total allocation exceeds 95.00% (906,992,014 bytes) of heap memory\n",
      "Scaling row group sizes to 96.54% for 7 writers\n",
      "                                                                                \r"
     ]
    },
    {
     "name": "stdout",
     "output_type": "stream",
     "text": [
      "+------------------------------+------------------+\n",
      "|ITMs                          |BERD_max          |\n",
      "+------------------------------+------------------+\n",
      "|Construction                  |14.758246114348793|\n",
      "|Information and Communications|22.936700118585094|\n",
      "|Professional Services         |57.15592762243958 |\n",
      "|Sea Transport                 |59.88919052057159 |\n",
      "|Precision Engineering         |63.68114641164536 |\n",
      "|Retail                        |84.50334556798033 |\n",
      "|Energy and Chemicals          |86.34806053778527 |\n",
      "|Logistics                     |91.44488583616092 |\n",
      "|Non-ITM (Biomed Mfg)          |146.62215472792917|\n",
      "|Wholesale Trade               |173.29664214337276|\n",
      "|Marine and Offshore           |173.8420811891271 |\n",
      "|Aerospace                     |176.43483146668234|\n",
      "|Food Manufacturing            |196.45775641161768|\n",
      "|Financial Services            |198.51366620334719|\n",
      "+------------------------------+------------------+\n",
      "\n"
     ]
    }
   ],
   "source": [
    "edu_average_age_query = (\n",
    "    QueryBuilder(\"members\")\n",
    "    .groupby(itm_sectors)\n",
    "    .max(\"BERD\", low=0, high=200)\n",
    ")\n",
    "edu_average_ages = session.evaluate(\n",
    "    edu_average_age_query,\n",
    "    privacy_budget=PureDPBudget(5),\n",
    ")\n",
    "edu_average_ages.sort(\"BERD_max\").show(truncate=False)"
   ]
  },
  {
   "cell_type": "code",
   "execution_count": null,
   "id": "a5cf4fc7-5b23-47e4-b555-ec6ff01da565",
   "metadata": {},
   "outputs": [],
   "source": []
  },
  {
   "cell_type": "code",
   "execution_count": null,
   "id": "87b99c34-c225-4b69-b9e1-620941bfa26a",
   "metadata": {},
   "outputs": [],
   "source": []
  }
 ],
 "metadata": {
  "kernelspec": {
   "display_name": "Python 3 (ipykernel)",
   "language": "python",
   "name": "python3"
  },
  "language_info": {
   "codemirror_mode": {
    "name": "ipython",
    "version": 3
   },
   "file_extension": ".py",
   "mimetype": "text/x-python",
   "name": "python",
   "nbconvert_exporter": "python",
   "pygments_lexer": "ipython3",
   "version": "3.8.11"
  }
 },
 "nbformat": 4,
 "nbformat_minor": 5
}
